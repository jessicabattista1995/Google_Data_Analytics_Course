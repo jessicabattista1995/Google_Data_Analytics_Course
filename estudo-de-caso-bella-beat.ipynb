{
 "cells": [
  {
   "cell_type": "code",
   "execution_count": 1,
   "id": "72cf795d",
   "metadata": {
    "_execution_state": "idle",
    "_uuid": "051d70d956493feee0c6d64651c6a088724dca2a",
    "execution": {
     "iopub.execute_input": "2025-04-06T17:52:59.935385Z",
     "iopub.status.busy": "2025-04-06T17:52:59.933418Z",
     "iopub.status.idle": "2025-04-06T17:53:01.094094Z",
     "shell.execute_reply": "2025-04-06T17:53:01.092368Z"
    },
    "papermill": {
     "duration": 1.172619,
     "end_time": "2025-04-06T17:53:01.096363",
     "exception": false,
     "start_time": "2025-04-06T17:52:59.923744",
     "status": "completed"
    },
    "tags": []
   },
   "outputs": [
    {
     "name": "stderr",
     "output_type": "stream",
     "text": [
      "── \u001b[1mAttaching core tidyverse packages\u001b[22m ──────────────────────── tidyverse 2.0.0 ──\n",
      "\u001b[32m✔\u001b[39m \u001b[34mdplyr    \u001b[39m 1.1.4     \u001b[32m✔\u001b[39m \u001b[34mreadr    \u001b[39m 2.1.4\n",
      "\u001b[32m✔\u001b[39m \u001b[34mforcats  \u001b[39m 1.0.0     \u001b[32m✔\u001b[39m \u001b[34mstringr  \u001b[39m 1.5.1\n",
      "\u001b[32m✔\u001b[39m \u001b[34mggplot2  \u001b[39m 3.4.4     \u001b[32m✔\u001b[39m \u001b[34mtibble   \u001b[39m 3.2.1\n",
      "\u001b[32m✔\u001b[39m \u001b[34mlubridate\u001b[39m 1.9.3     \u001b[32m✔\u001b[39m \u001b[34mtidyr    \u001b[39m 1.3.0\n",
      "\u001b[32m✔\u001b[39m \u001b[34mpurrr    \u001b[39m 1.0.2     \n",
      "── \u001b[1mConflicts\u001b[22m ────────────────────────────────────────── tidyverse_conflicts() ──\n",
      "\u001b[31m✖\u001b[39m \u001b[34mdplyr\u001b[39m::\u001b[32mfilter()\u001b[39m masks \u001b[34mstats\u001b[39m::filter()\n",
      "\u001b[31m✖\u001b[39m \u001b[34mdplyr\u001b[39m::\u001b[32mlag()\u001b[39m    masks \u001b[34mstats\u001b[39m::lag()\n",
      "\u001b[36mℹ\u001b[39m Use the conflicted package (\u001b[3m\u001b[34m<http://conflicted.r-lib.org/>\u001b[39m\u001b[23m) to force all conflicts to become errors\n"
     ]
    },
    {
     "data": {
      "text/html": [
       "'fitbit'"
      ],
      "text/latex": [
       "'fitbit'"
      ],
      "text/markdown": [
       "'fitbit'"
      ],
      "text/plain": [
       "[1] \"fitbit\""
      ]
     },
     "metadata": {},
     "output_type": "display_data"
    }
   ],
   "source": [
    "# This R environment comes with many helpful analytics packages installed\n",
    "# It is defined by the kaggle/rstats Docker image: https://github.com/kaggle/docker-rstats\n",
    "# For example, here's a helpful package to load\n",
    "\n",
    "library(tidyverse) # metapackage of all tidyverse packages\n",
    "\n",
    "# Input data files are available in the read-only \"../input/\" directory\n",
    "# For example, running this (by clicking run or pressing Shift+Enter) will list all files under the input directory\n",
    "\n",
    "list.files(path = \"../input\")\n",
    "\n",
    "# You can write up to 20GB to the current directory (/kaggle/working/) that gets preserved as output when you create a version using \"Save & Run All\" \n",
    "# You can also write temporary files to /kaggle/temp/, but they won't be saved outside of the current session"
   ]
  },
  {
   "cell_type": "markdown",
   "id": "be41dce0",
   "metadata": {
    "papermill": {
     "duration": 0.007129,
     "end_time": "2025-04-06T17:53:01.110881",
     "exception": false,
     "start_time": "2025-04-06T17:53:01.103752",
     "status": "completed"
    },
    "tags": []
   },
   "source": [
    "# Como uma empresa de tecnologia de bem-estar pode agir com inteligência?\n",
    "## How can a wellness technology company act smart?\n",
    "####    Estudo de Caso da Empresa Bella Beat\n",
    " ####            Jéssica Baptista Viana\n",
    "  ####               Google Data Analysis\n",
    "  "
   ]
  },
  {
   "cell_type": "markdown",
   "id": "c1ce6f8d",
   "metadata": {
    "papermill": {
     "duration": 0.00717,
     "end_time": "2025-04-06T17:53:01.125032",
     "exception": false,
     "start_time": "2025-04-06T17:53:01.117862",
     "status": "completed"
    },
    "tags": []
   },
   "source": [
    "## Introdução \n",
    "\n",
    "A Bellabeat, é uma empresa inovadora no mercado de produtos de saúde para mulheres e está interessada em expandir a exploração de produtos no mercado global de produtos de rastreamento inteligente. Urška Sršen, cofundador e CEO da Bellabeat, está ciente da importância de analisar dados de condicionamento físico que acompanham esses dispositivos para direcionar o crescimento da empresa. Este caso de estudo analisará dados de rastreadores inteligentes para entender como os consumidores da Bellabeat estão usando seus produtos para informar a estratégia de marketing da empresa.\n",
    "\n",
    "\n",
    "## Introduction\n",
    "\n",
    "Bellabeat, is an innovator in the women's health products market and is interested in expanding product exploration in the global smart tracking products market. Urška Sršen, co-founder and CEO of Bellabeat, is aware of the importance of analyzing fitness data that comes with these devices to drive the company's growth. This case study will analyze data from smart trackers to understand how Bellabeat consumers are using its products to inform the company's marketing strategy.\n",
    "\n",
    "## Objetivo\n",
    "\n",
    "O propósito deste estudo de caso é analisar os dados dos usuários do dispositivo inteligentes que podem fornecer um insight significativo sobre o consumismo de Bellabeat entre a base da empresa. Os objetivos gerais compreendem a análise e a verificação de quais padrões de comportamento, tendências de preferência e necessidades dos usuários Bellabeat mediante um plano de marketing da empresa . O trabalho com a investigação conduz à revelação preliminar das conclusões com conclusões que serão discutidas com a equipe executiva da Bellabeat. Durante a discussão, serão destacadas as recomendações sobre quais decisões estratégicas devem ser aceitas para conquistar o maior mercado possível entre os dispositivos inteligentes para a saúde feminina.\n",
    "\n",
    "## Goal\n",
    "\n",
    "The purpose of this case study is to analyze data from smart device users that can provide significant insight into Bellabeat's consumerism among the company's base. The general objectives include analyzing and verifying the behavior patterns, preference trends and needs of Bellabeat users through a company marketing plan. The work with the investigation leads to the preliminary disclosure of findings with conclusions that will be discussed with the Bellabeat executive team. During the discussion, recommendations will be highlighted on which strategic decisions should be accepted to capture the largest possible market among smart devices for women's health.\n",
    "\n",
    "\n",
    "## Personagens e produtos\n",
    "\n",
    "### Personagens\n",
    "\n",
    "Urška Sršen: Cofundadora e CEO da Bellabeat\n",
    "Sando Mur: Matemático e cofundador da Bellabeat; membro-chave da equipe executiva da Bellabeat\n",
    "Equipe de análise de marketing da Bellabeat: Uma equipe de analistas de dados responsável por coletar, analisar e relatar dados que ajudam a orientar a estratégia de marketing da Bellabeat. Você se juntou a esta equipe há seis meses e tem estado ocupado aprendendo sobre a missão e os objetivos de negócios da Bellabeat – e como você, como analista de dados júnior, também pode ajudar a Bellabeat a alcançá-los.\n",
    "\n",
    "### Characters\n",
    "\n",
    "Urška Sršen: Co-founder and CEO of Bellabeat\n",
    "Sando Mur: Mathematician and co-founder of Bellabeat; key member of the Bellabeat executive team\n",
    "Bellabeat Marketing Analytics Team: A team of data analysts responsible for collecting, analyzing and reporting data that helps guide Bellabeat's marketing strategy. You joined this team six months ago and have been busy learning about Bellabeat's mission and business goals – and how you, as a junior data analyst, can help Bellabeat achieve them too.\n",
    "\n",
    "### Produtos\n",
    "\n",
    "Aplicativo Bellabeat: O aplicativo Bellabeat fornece aos usuários dados de saúde relacionados à sua atividade, sono, estresse, ciclo menstrual e hábitos de atenção plena. Esses dados podem ajudar os usuários a entender melhor seus hábitos atuais e tomar decisões saudáveis. O aplicativo Bellabeat se conecta à sua linha de produtos inteligentes de bem-estar.\n",
    "Leaf: O rastreador de bem-estar clássico da Bellabeat pode ser usado como pulseira, colar ou clipe. O rastreador Leaf se conecta ao aplicativo Bellabeat para rastrear a atividade, o sono e o estresse.\n",
    "Time: Este relógio de bem-estar combina a aparência atemporal de um relógio clássico com tecnologia inteligente para rastrear a atividade, o sono e o estresse do usuário. O relógio Time se conecta ao aplicativo Bellabeat para fornecer informações sobre seu bem-estar diário.\n",
    "Spring: Esta é uma garrafa de água que rastreia a ingestão diária de água por meio de tecnologia inteligente para garantir que você esteja adequadamente hidratado ao longo do dia. A garrafa Spring se conecta ao aplicativo Bellabeat para rastrear seus níveis de hidratação. \n",
    "Planos da Bellabeat: A Bellabeat também oferece aos usuários diferentes planos de assinatura. As assinaturas oferecem aos usuários acesso 24 horas por dia, 7 dias por semana, orientação totalmente personalizada sobre nutrição, atividade, sono, saúde e beleza, além de atenção plena com base em seu estilo de vida e objetivos. \n",
    "\n",
    "\n",
    "### Products\n",
    "\n",
    "Bellabeat app: The Bellabeat app provides users with health data related to their activity, sleep, stress, menstrual cycle and mindfulness habits. This data can help users better understand their current habits and make healthy decisions. The Bellabeat app connects to your line of smart wellness products.\n",
    "Leaf: Bellabeat's classic wellness tracker can be worn as a bracelet, necklace, or clip. The Leaf tracker connects to the Bellabeat app to track activity, sleep, and stress.\n",
    "Time: This wellness watch combines the timeless look of a classic watch with smart technology to track the wearer's activity, sleep and stress. The Time watch connects to the Bellabeat app to provide insights into your daily well-being.\n",
    "Spring: This is a water bottle that tracks your daily water intake through smart technology to ensure you are adequately hydrated throughout the day. The Spring bottle connects to the Bellabeat app to track your hydration levels.\n",
    "Bellabeat Plans: Bellabeat also offers users different subscription plans. Subscriptions give users 24/7 access to fully personalized guidance on nutrition, activity, sleep, health and beauty, and mindfulness based on your lifestyle and goals.\n",
    "\n",
    "### Perguntas\n",
    "\n",
    "Quais são algumas das tendências no uso de dispositivos inteligentes?\n",
    "Como essas tendências podem se aplicar aos clientes da Bellabeat?\n",
    "Como essas tendências podem ajudar a influenciar a estratégia de marketing da Bellabeat?\n",
    "\n",
    "### Questions\n",
    "\n",
    "What are some trends in the use of smart devices?\n",
    "How might these trends apply to Bellabeat customers?\n",
    "How can these trends help influence Bellabeat's marketing strategy?\n",
    "\n",
    "## Processamento e Exploração (Processing and Exploitation)"
   ]
  },
  {
   "cell_type": "code",
   "execution_count": 2,
   "id": "6ca9d9f0",
   "metadata": {
    "execution": {
     "iopub.execute_input": "2025-04-06T17:53:01.168285Z",
     "iopub.status.busy": "2025-04-06T17:53:01.140777Z",
     "iopub.status.idle": "2025-04-06T17:53:01.273487Z",
     "shell.execute_reply": "2025-04-06T17:53:01.271785Z"
    },
    "papermill": {
     "duration": 0.143861,
     "end_time": "2025-04-06T17:53:01.275788",
     "exception": false,
     "start_time": "2025-04-06T17:53:01.131927",
     "status": "completed"
    },
    "tags": []
   },
   "outputs": [],
   "source": [
    "# Adicionando Pacotes \n",
    "# Adding Packages\n",
    "library(tidyverse)\n",
    "library(lubridate)\n",
    "library(ggplot2)\n",
    "library(readr)\n",
    "library(dplyr)\n",
    "library(tidyr)\n",
    "library(skimr)\n",
    "\n"
   ]
  },
  {
   "cell_type": "markdown",
   "id": "d0946ab1",
   "metadata": {
    "papermill": {
     "duration": 0.007833,
     "end_time": "2025-04-06T17:53:01.290966",
     "exception": false,
     "start_time": "2025-04-06T17:53:01.283133",
     "status": "completed"
    },
    "tags": []
   },
   "source": [
    "# Importando Arquivos\n",
    "#### Importing Files\n",
    "\n",
    " *  O primeiro passo é coletar os dados relevantes para a análise. Isso pode envolver a extração de dados de fontes como bancos de dados, arquivos CSV, APIs da web, registros de sensores, entre outros.\n",
    " \n",
    " * The first step is to collect the relevant data for the analysis. This may involve extracting data from sources such as databases, CSV files, web APIs, sensor logs, among others."
   ]
  },
  {
   "cell_type": "code",
   "execution_count": 3,
   "id": "451ae4d4",
   "metadata": {
    "execution": {
     "iopub.execute_input": "2025-04-06T17:53:01.308590Z",
     "iopub.status.busy": "2025-04-06T17:53:01.307098Z",
     "iopub.status.idle": "2025-04-06T17:53:01.477798Z",
     "shell.execute_reply": "2025-04-06T17:53:01.476139Z"
    },
    "papermill": {
     "duration": 0.181996,
     "end_time": "2025-04-06T17:53:01.480007",
     "exception": false,
     "start_time": "2025-04-06T17:53:01.298011",
     "status": "completed"
    },
    "tags": []
   },
   "outputs": [],
   "source": [
    "atividade <- read.csv(\"/kaggle/input/fitbit/mturkfitbit_export_4.12.16-5.12.16/Fitabase Data 4.12.16-5.12.16/dailyActivity_merged.csv\")\n",
    "calorias <- read.csv(\"/kaggle/input/fitbit/mturkfitbit_export_4.12.16-5.12.16/Fitabase Data 4.12.16-5.12.16/hourlyCalories_merged.csv\")\n",
    "intensidade <- read.csv(\"/kaggle/input/fitbit/mturkfitbit_export_4.12.16-5.12.16/Fitabase Data 4.12.16-5.12.16/hourlyIntensities_merged.csv\")\n",
    "sono <- read.csv(\"/kaggle/input/fitbit/mturkfitbit_export_4.12.16-5.12.16/Fitabase Data 4.12.16-5.12.16/sleepDay_merged.csv\")\n"
   ]
  },
  {
   "cell_type": "markdown",
   "id": "5ac39e41",
   "metadata": {
    "papermill": {
     "duration": 0.007107,
     "end_time": "2025-04-06T17:53:01.494241",
     "exception": false,
     "start_time": "2025-04-06T17:53:01.487134",
     "status": "completed"
    },
    "tags": []
   },
   "source": [
    "# Preparando dados para o processamento\n",
    "#### Preparing data for processing\n",
    "* Após a coleta dos dados, é importante realizar uma exploração inicial para entender a estrutura dos dados, os tipos de variáveis presentes e ter uma ideia geral do conteúdo dos dados. Isso pode incluir a visualização de amostras dos dados, a verificação de estatísticas descritivas básicas e a identificação de possíveis problemas, como valores ausentes ou outliers.\n",
    "\n",
    "* After data collection, it is important to perform an initial exploration to understand the structure of the data, the types of variables present, and to get a general idea of ​​the data content. This may include viewing samples of the data, checking basic descriptive statistics, and identifying potential issues such as missing values ​​or outliers."
   ]
  },
  {
   "cell_type": "code",
   "execution_count": 4,
   "id": "9a404e4d",
   "metadata": {
    "execution": {
     "iopub.execute_input": "2025-04-06T17:53:01.511635Z",
     "iopub.status.busy": "2025-04-06T17:53:01.510150Z",
     "iopub.status.idle": "2025-04-06T17:53:01.584214Z",
     "shell.execute_reply": "2025-04-06T17:53:01.582559Z"
    },
    "papermill": {
     "duration": 0.085114,
     "end_time": "2025-04-06T17:53:01.586307",
     "exception": false,
     "start_time": "2025-04-06T17:53:01.501193",
     "status": "completed"
    },
    "tags": []
   },
   "outputs": [
    {
     "data": {
      "text/html": [
       "<table class=\"dataframe\">\n",
       "<caption>A data.frame: 6 × 15</caption>\n",
       "<thead>\n",
       "\t<tr><th></th><th scope=col>Id</th><th scope=col>ActivityDate</th><th scope=col>TotalSteps</th><th scope=col>TotalDistance</th><th scope=col>TrackerDistance</th><th scope=col>LoggedActivitiesDistance</th><th scope=col>VeryActiveDistance</th><th scope=col>ModeratelyActiveDistance</th><th scope=col>LightActiveDistance</th><th scope=col>SedentaryActiveDistance</th><th scope=col>VeryActiveMinutes</th><th scope=col>FairlyActiveMinutes</th><th scope=col>LightlyActiveMinutes</th><th scope=col>SedentaryMinutes</th><th scope=col>Calories</th></tr>\n",
       "\t<tr><th></th><th scope=col>&lt;dbl&gt;</th><th scope=col>&lt;chr&gt;</th><th scope=col>&lt;int&gt;</th><th scope=col>&lt;dbl&gt;</th><th scope=col>&lt;dbl&gt;</th><th scope=col>&lt;dbl&gt;</th><th scope=col>&lt;dbl&gt;</th><th scope=col>&lt;dbl&gt;</th><th scope=col>&lt;dbl&gt;</th><th scope=col>&lt;dbl&gt;</th><th scope=col>&lt;int&gt;</th><th scope=col>&lt;int&gt;</th><th scope=col>&lt;int&gt;</th><th scope=col>&lt;int&gt;</th><th scope=col>&lt;int&gt;</th></tr>\n",
       "</thead>\n",
       "<tbody>\n",
       "\t<tr><th scope=row>1</th><td>1503960366</td><td>4/12/2016</td><td>13162</td><td>8.50</td><td>8.50</td><td>0</td><td>1.88</td><td>0.55</td><td>6.06</td><td>0</td><td>25</td><td>13</td><td>328</td><td> 728</td><td>1985</td></tr>\n",
       "\t<tr><th scope=row>2</th><td>1503960366</td><td>4/13/2016</td><td>10735</td><td>6.97</td><td>6.97</td><td>0</td><td>1.57</td><td>0.69</td><td>4.71</td><td>0</td><td>21</td><td>19</td><td>217</td><td> 776</td><td>1797</td></tr>\n",
       "\t<tr><th scope=row>3</th><td>1503960366</td><td>4/14/2016</td><td>10460</td><td>6.74</td><td>6.74</td><td>0</td><td>2.44</td><td>0.40</td><td>3.91</td><td>0</td><td>30</td><td>11</td><td>181</td><td>1218</td><td>1776</td></tr>\n",
       "\t<tr><th scope=row>4</th><td>1503960366</td><td>4/15/2016</td><td> 9762</td><td>6.28</td><td>6.28</td><td>0</td><td>2.14</td><td>1.26</td><td>2.83</td><td>0</td><td>29</td><td>34</td><td>209</td><td> 726</td><td>1745</td></tr>\n",
       "\t<tr><th scope=row>5</th><td>1503960366</td><td>4/16/2016</td><td>12669</td><td>8.16</td><td>8.16</td><td>0</td><td>2.71</td><td>0.41</td><td>5.04</td><td>0</td><td>36</td><td>10</td><td>221</td><td> 773</td><td>1863</td></tr>\n",
       "\t<tr><th scope=row>6</th><td>1503960366</td><td>4/17/2016</td><td> 9705</td><td>6.48</td><td>6.48</td><td>0</td><td>3.19</td><td>0.78</td><td>2.51</td><td>0</td><td>38</td><td>20</td><td>164</td><td> 539</td><td>1728</td></tr>\n",
       "</tbody>\n",
       "</table>\n"
      ],
      "text/latex": [
       "A data.frame: 6 × 15\n",
       "\\begin{tabular}{r|lllllllllllllll}\n",
       "  & Id & ActivityDate & TotalSteps & TotalDistance & TrackerDistance & LoggedActivitiesDistance & VeryActiveDistance & ModeratelyActiveDistance & LightActiveDistance & SedentaryActiveDistance & VeryActiveMinutes & FairlyActiveMinutes & LightlyActiveMinutes & SedentaryMinutes & Calories\\\\\n",
       "  & <dbl> & <chr> & <int> & <dbl> & <dbl> & <dbl> & <dbl> & <dbl> & <dbl> & <dbl> & <int> & <int> & <int> & <int> & <int>\\\\\n",
       "\\hline\n",
       "\t1 & 1503960366 & 4/12/2016 & 13162 & 8.50 & 8.50 & 0 & 1.88 & 0.55 & 6.06 & 0 & 25 & 13 & 328 &  728 & 1985\\\\\n",
       "\t2 & 1503960366 & 4/13/2016 & 10735 & 6.97 & 6.97 & 0 & 1.57 & 0.69 & 4.71 & 0 & 21 & 19 & 217 &  776 & 1797\\\\\n",
       "\t3 & 1503960366 & 4/14/2016 & 10460 & 6.74 & 6.74 & 0 & 2.44 & 0.40 & 3.91 & 0 & 30 & 11 & 181 & 1218 & 1776\\\\\n",
       "\t4 & 1503960366 & 4/15/2016 &  9762 & 6.28 & 6.28 & 0 & 2.14 & 1.26 & 2.83 & 0 & 29 & 34 & 209 &  726 & 1745\\\\\n",
       "\t5 & 1503960366 & 4/16/2016 & 12669 & 8.16 & 8.16 & 0 & 2.71 & 0.41 & 5.04 & 0 & 36 & 10 & 221 &  773 & 1863\\\\\n",
       "\t6 & 1503960366 & 4/17/2016 &  9705 & 6.48 & 6.48 & 0 & 3.19 & 0.78 & 2.51 & 0 & 38 & 20 & 164 &  539 & 1728\\\\\n",
       "\\end{tabular}\n"
      ],
      "text/markdown": [
       "\n",
       "A data.frame: 6 × 15\n",
       "\n",
       "| <!--/--> | Id &lt;dbl&gt; | ActivityDate &lt;chr&gt; | TotalSteps &lt;int&gt; | TotalDistance &lt;dbl&gt; | TrackerDistance &lt;dbl&gt; | LoggedActivitiesDistance &lt;dbl&gt; | VeryActiveDistance &lt;dbl&gt; | ModeratelyActiveDistance &lt;dbl&gt; | LightActiveDistance &lt;dbl&gt; | SedentaryActiveDistance &lt;dbl&gt; | VeryActiveMinutes &lt;int&gt; | FairlyActiveMinutes &lt;int&gt; | LightlyActiveMinutes &lt;int&gt; | SedentaryMinutes &lt;int&gt; | Calories &lt;int&gt; |\n",
       "|---|---|---|---|---|---|---|---|---|---|---|---|---|---|---|---|\n",
       "| 1 | 1503960366 | 4/12/2016 | 13162 | 8.50 | 8.50 | 0 | 1.88 | 0.55 | 6.06 | 0 | 25 | 13 | 328 |  728 | 1985 |\n",
       "| 2 | 1503960366 | 4/13/2016 | 10735 | 6.97 | 6.97 | 0 | 1.57 | 0.69 | 4.71 | 0 | 21 | 19 | 217 |  776 | 1797 |\n",
       "| 3 | 1503960366 | 4/14/2016 | 10460 | 6.74 | 6.74 | 0 | 2.44 | 0.40 | 3.91 | 0 | 30 | 11 | 181 | 1218 | 1776 |\n",
       "| 4 | 1503960366 | 4/15/2016 |  9762 | 6.28 | 6.28 | 0 | 2.14 | 1.26 | 2.83 | 0 | 29 | 34 | 209 |  726 | 1745 |\n",
       "| 5 | 1503960366 | 4/16/2016 | 12669 | 8.16 | 8.16 | 0 | 2.71 | 0.41 | 5.04 | 0 | 36 | 10 | 221 |  773 | 1863 |\n",
       "| 6 | 1503960366 | 4/17/2016 |  9705 | 6.48 | 6.48 | 0 | 3.19 | 0.78 | 2.51 | 0 | 38 | 20 | 164 |  539 | 1728 |\n",
       "\n"
      ],
      "text/plain": [
       "  Id         ActivityDate TotalSteps TotalDistance TrackerDistance\n",
       "1 1503960366 4/12/2016    13162      8.50          8.50           \n",
       "2 1503960366 4/13/2016    10735      6.97          6.97           \n",
       "3 1503960366 4/14/2016    10460      6.74          6.74           \n",
       "4 1503960366 4/15/2016     9762      6.28          6.28           \n",
       "5 1503960366 4/16/2016    12669      8.16          8.16           \n",
       "6 1503960366 4/17/2016     9705      6.48          6.48           \n",
       "  LoggedActivitiesDistance VeryActiveDistance ModeratelyActiveDistance\n",
       "1 0                        1.88               0.55                    \n",
       "2 0                        1.57               0.69                    \n",
       "3 0                        2.44               0.40                    \n",
       "4 0                        2.14               1.26                    \n",
       "5 0                        2.71               0.41                    \n",
       "6 0                        3.19               0.78                    \n",
       "  LightActiveDistance SedentaryActiveDistance VeryActiveMinutes\n",
       "1 6.06                0                       25               \n",
       "2 4.71                0                       21               \n",
       "3 3.91                0                       30               \n",
       "4 2.83                0                       29               \n",
       "5 5.04                0                       36               \n",
       "6 2.51                0                       38               \n",
       "  FairlyActiveMinutes LightlyActiveMinutes SedentaryMinutes Calories\n",
       "1 13                  328                   728             1985    \n",
       "2 19                  217                   776             1797    \n",
       "3 11                  181                  1218             1776    \n",
       "4 34                  209                   726             1745    \n",
       "5 10                  221                   773             1863    \n",
       "6 20                  164                   539             1728    "
      ]
     },
     "metadata": {},
     "output_type": "display_data"
    },
    {
     "data": {
      "text/html": [
       "<table class=\"dataframe\">\n",
       "<caption>A data.frame: 6 × 3</caption>\n",
       "<thead>\n",
       "\t<tr><th></th><th scope=col>Id</th><th scope=col>ActivityHour</th><th scope=col>Calories</th></tr>\n",
       "\t<tr><th></th><th scope=col>&lt;dbl&gt;</th><th scope=col>&lt;chr&gt;</th><th scope=col>&lt;int&gt;</th></tr>\n",
       "</thead>\n",
       "<tbody>\n",
       "\t<tr><th scope=row>1</th><td>1503960366</td><td>4/12/2016 12:00:00 AM</td><td>81</td></tr>\n",
       "\t<tr><th scope=row>2</th><td>1503960366</td><td>4/12/2016 1:00:00 AM </td><td>61</td></tr>\n",
       "\t<tr><th scope=row>3</th><td>1503960366</td><td>4/12/2016 2:00:00 AM </td><td>59</td></tr>\n",
       "\t<tr><th scope=row>4</th><td>1503960366</td><td>4/12/2016 3:00:00 AM </td><td>47</td></tr>\n",
       "\t<tr><th scope=row>5</th><td>1503960366</td><td>4/12/2016 4:00:00 AM </td><td>48</td></tr>\n",
       "\t<tr><th scope=row>6</th><td>1503960366</td><td>4/12/2016 5:00:00 AM </td><td>48</td></tr>\n",
       "</tbody>\n",
       "</table>\n"
      ],
      "text/latex": [
       "A data.frame: 6 × 3\n",
       "\\begin{tabular}{r|lll}\n",
       "  & Id & ActivityHour & Calories\\\\\n",
       "  & <dbl> & <chr> & <int>\\\\\n",
       "\\hline\n",
       "\t1 & 1503960366 & 4/12/2016 12:00:00 AM & 81\\\\\n",
       "\t2 & 1503960366 & 4/12/2016 1:00:00 AM  & 61\\\\\n",
       "\t3 & 1503960366 & 4/12/2016 2:00:00 AM  & 59\\\\\n",
       "\t4 & 1503960366 & 4/12/2016 3:00:00 AM  & 47\\\\\n",
       "\t5 & 1503960366 & 4/12/2016 4:00:00 AM  & 48\\\\\n",
       "\t6 & 1503960366 & 4/12/2016 5:00:00 AM  & 48\\\\\n",
       "\\end{tabular}\n"
      ],
      "text/markdown": [
       "\n",
       "A data.frame: 6 × 3\n",
       "\n",
       "| <!--/--> | Id &lt;dbl&gt; | ActivityHour &lt;chr&gt; | Calories &lt;int&gt; |\n",
       "|---|---|---|---|\n",
       "| 1 | 1503960366 | 4/12/2016 12:00:00 AM | 81 |\n",
       "| 2 | 1503960366 | 4/12/2016 1:00:00 AM  | 61 |\n",
       "| 3 | 1503960366 | 4/12/2016 2:00:00 AM  | 59 |\n",
       "| 4 | 1503960366 | 4/12/2016 3:00:00 AM  | 47 |\n",
       "| 5 | 1503960366 | 4/12/2016 4:00:00 AM  | 48 |\n",
       "| 6 | 1503960366 | 4/12/2016 5:00:00 AM  | 48 |\n",
       "\n"
      ],
      "text/plain": [
       "  Id         ActivityHour          Calories\n",
       "1 1503960366 4/12/2016 12:00:00 AM 81      \n",
       "2 1503960366 4/12/2016 1:00:00 AM  61      \n",
       "3 1503960366 4/12/2016 2:00:00 AM  59      \n",
       "4 1503960366 4/12/2016 3:00:00 AM  47      \n",
       "5 1503960366 4/12/2016 4:00:00 AM  48      \n",
       "6 1503960366 4/12/2016 5:00:00 AM  48      "
      ]
     },
     "metadata": {},
     "output_type": "display_data"
    },
    {
     "data": {
      "text/html": [
       "<table class=\"dataframe\">\n",
       "<caption>A data.frame: 6 × 4</caption>\n",
       "<thead>\n",
       "\t<tr><th></th><th scope=col>Id</th><th scope=col>ActivityHour</th><th scope=col>TotalIntensity</th><th scope=col>AverageIntensity</th></tr>\n",
       "\t<tr><th></th><th scope=col>&lt;dbl&gt;</th><th scope=col>&lt;chr&gt;</th><th scope=col>&lt;int&gt;</th><th scope=col>&lt;dbl&gt;</th></tr>\n",
       "</thead>\n",
       "<tbody>\n",
       "\t<tr><th scope=row>1</th><td>1503960366</td><td>4/12/2016 12:00:00 AM</td><td>20</td><td>0.333333</td></tr>\n",
       "\t<tr><th scope=row>2</th><td>1503960366</td><td>4/12/2016 1:00:00 AM </td><td> 8</td><td>0.133333</td></tr>\n",
       "\t<tr><th scope=row>3</th><td>1503960366</td><td>4/12/2016 2:00:00 AM </td><td> 7</td><td>0.116667</td></tr>\n",
       "\t<tr><th scope=row>4</th><td>1503960366</td><td>4/12/2016 3:00:00 AM </td><td> 0</td><td>0.000000</td></tr>\n",
       "\t<tr><th scope=row>5</th><td>1503960366</td><td>4/12/2016 4:00:00 AM </td><td> 0</td><td>0.000000</td></tr>\n",
       "\t<tr><th scope=row>6</th><td>1503960366</td><td>4/12/2016 5:00:00 AM </td><td> 0</td><td>0.000000</td></tr>\n",
       "</tbody>\n",
       "</table>\n"
      ],
      "text/latex": [
       "A data.frame: 6 × 4\n",
       "\\begin{tabular}{r|llll}\n",
       "  & Id & ActivityHour & TotalIntensity & AverageIntensity\\\\\n",
       "  & <dbl> & <chr> & <int> & <dbl>\\\\\n",
       "\\hline\n",
       "\t1 & 1503960366 & 4/12/2016 12:00:00 AM & 20 & 0.333333\\\\\n",
       "\t2 & 1503960366 & 4/12/2016 1:00:00 AM  &  8 & 0.133333\\\\\n",
       "\t3 & 1503960366 & 4/12/2016 2:00:00 AM  &  7 & 0.116667\\\\\n",
       "\t4 & 1503960366 & 4/12/2016 3:00:00 AM  &  0 & 0.000000\\\\\n",
       "\t5 & 1503960366 & 4/12/2016 4:00:00 AM  &  0 & 0.000000\\\\\n",
       "\t6 & 1503960366 & 4/12/2016 5:00:00 AM  &  0 & 0.000000\\\\\n",
       "\\end{tabular}\n"
      ],
      "text/markdown": [
       "\n",
       "A data.frame: 6 × 4\n",
       "\n",
       "| <!--/--> | Id &lt;dbl&gt; | ActivityHour &lt;chr&gt; | TotalIntensity &lt;int&gt; | AverageIntensity &lt;dbl&gt; |\n",
       "|---|---|---|---|---|\n",
       "| 1 | 1503960366 | 4/12/2016 12:00:00 AM | 20 | 0.333333 |\n",
       "| 2 | 1503960366 | 4/12/2016 1:00:00 AM  |  8 | 0.133333 |\n",
       "| 3 | 1503960366 | 4/12/2016 2:00:00 AM  |  7 | 0.116667 |\n",
       "| 4 | 1503960366 | 4/12/2016 3:00:00 AM  |  0 | 0.000000 |\n",
       "| 5 | 1503960366 | 4/12/2016 4:00:00 AM  |  0 | 0.000000 |\n",
       "| 6 | 1503960366 | 4/12/2016 5:00:00 AM  |  0 | 0.000000 |\n",
       "\n"
      ],
      "text/plain": [
       "  Id         ActivityHour          TotalIntensity AverageIntensity\n",
       "1 1503960366 4/12/2016 12:00:00 AM 20             0.333333        \n",
       "2 1503960366 4/12/2016 1:00:00 AM   8             0.133333        \n",
       "3 1503960366 4/12/2016 2:00:00 AM   7             0.116667        \n",
       "4 1503960366 4/12/2016 3:00:00 AM   0             0.000000        \n",
       "5 1503960366 4/12/2016 4:00:00 AM   0             0.000000        \n",
       "6 1503960366 4/12/2016 5:00:00 AM   0             0.000000        "
      ]
     },
     "metadata": {},
     "output_type": "display_data"
    },
    {
     "data": {
      "text/html": [
       "<table class=\"dataframe\">\n",
       "<caption>A data.frame: 6 × 5</caption>\n",
       "<thead>\n",
       "\t<tr><th></th><th scope=col>Id</th><th scope=col>SleepDay</th><th scope=col>TotalSleepRecords</th><th scope=col>TotalMinutesAsleep</th><th scope=col>TotalTimeInBed</th></tr>\n",
       "\t<tr><th></th><th scope=col>&lt;dbl&gt;</th><th scope=col>&lt;chr&gt;</th><th scope=col>&lt;int&gt;</th><th scope=col>&lt;int&gt;</th><th scope=col>&lt;int&gt;</th></tr>\n",
       "</thead>\n",
       "<tbody>\n",
       "\t<tr><th scope=row>1</th><td>1503960366</td><td>4/12/2016 12:00:00 AM</td><td>1</td><td>327</td><td>346</td></tr>\n",
       "\t<tr><th scope=row>2</th><td>1503960366</td><td>4/13/2016 12:00:00 AM</td><td>2</td><td>384</td><td>407</td></tr>\n",
       "\t<tr><th scope=row>3</th><td>1503960366</td><td>4/15/2016 12:00:00 AM</td><td>1</td><td>412</td><td>442</td></tr>\n",
       "\t<tr><th scope=row>4</th><td>1503960366</td><td>4/16/2016 12:00:00 AM</td><td>2</td><td>340</td><td>367</td></tr>\n",
       "\t<tr><th scope=row>5</th><td>1503960366</td><td>4/17/2016 12:00:00 AM</td><td>1</td><td>700</td><td>712</td></tr>\n",
       "\t<tr><th scope=row>6</th><td>1503960366</td><td>4/19/2016 12:00:00 AM</td><td>1</td><td>304</td><td>320</td></tr>\n",
       "</tbody>\n",
       "</table>\n"
      ],
      "text/latex": [
       "A data.frame: 6 × 5\n",
       "\\begin{tabular}{r|lllll}\n",
       "  & Id & SleepDay & TotalSleepRecords & TotalMinutesAsleep & TotalTimeInBed\\\\\n",
       "  & <dbl> & <chr> & <int> & <int> & <int>\\\\\n",
       "\\hline\n",
       "\t1 & 1503960366 & 4/12/2016 12:00:00 AM & 1 & 327 & 346\\\\\n",
       "\t2 & 1503960366 & 4/13/2016 12:00:00 AM & 2 & 384 & 407\\\\\n",
       "\t3 & 1503960366 & 4/15/2016 12:00:00 AM & 1 & 412 & 442\\\\\n",
       "\t4 & 1503960366 & 4/16/2016 12:00:00 AM & 2 & 340 & 367\\\\\n",
       "\t5 & 1503960366 & 4/17/2016 12:00:00 AM & 1 & 700 & 712\\\\\n",
       "\t6 & 1503960366 & 4/19/2016 12:00:00 AM & 1 & 304 & 320\\\\\n",
       "\\end{tabular}\n"
      ],
      "text/markdown": [
       "\n",
       "A data.frame: 6 × 5\n",
       "\n",
       "| <!--/--> | Id &lt;dbl&gt; | SleepDay &lt;chr&gt; | TotalSleepRecords &lt;int&gt; | TotalMinutesAsleep &lt;int&gt; | TotalTimeInBed &lt;int&gt; |\n",
       "|---|---|---|---|---|---|\n",
       "| 1 | 1503960366 | 4/12/2016 12:00:00 AM | 1 | 327 | 346 |\n",
       "| 2 | 1503960366 | 4/13/2016 12:00:00 AM | 2 | 384 | 407 |\n",
       "| 3 | 1503960366 | 4/15/2016 12:00:00 AM | 1 | 412 | 442 |\n",
       "| 4 | 1503960366 | 4/16/2016 12:00:00 AM | 2 | 340 | 367 |\n",
       "| 5 | 1503960366 | 4/17/2016 12:00:00 AM | 1 | 700 | 712 |\n",
       "| 6 | 1503960366 | 4/19/2016 12:00:00 AM | 1 | 304 | 320 |\n",
       "\n"
      ],
      "text/plain": [
       "  Id         SleepDay              TotalSleepRecords TotalMinutesAsleep\n",
       "1 1503960366 4/12/2016 12:00:00 AM 1                 327               \n",
       "2 1503960366 4/13/2016 12:00:00 AM 2                 384               \n",
       "3 1503960366 4/15/2016 12:00:00 AM 1                 412               \n",
       "4 1503960366 4/16/2016 12:00:00 AM 2                 340               \n",
       "5 1503960366 4/17/2016 12:00:00 AM 1                 700               \n",
       "6 1503960366 4/19/2016 12:00:00 AM 1                 304               \n",
       "  TotalTimeInBed\n",
       "1 346           \n",
       "2 407           \n",
       "3 442           \n",
       "4 367           \n",
       "5 712           \n",
       "6 320           "
      ]
     },
     "metadata": {},
     "output_type": "display_data"
    }
   ],
   "source": [
    "head(atividade)\n",
    "\n",
    "head(calorias)\n",
    "\n",
    "head(intensidade)\n",
    "\n",
    "head(sono)\n",
    "\n"
   ]
  },
  {
   "cell_type": "markdown",
   "id": "0bc6b576",
   "metadata": {
    "papermill": {
     "duration": 0.008153,
     "end_time": "2025-04-06T17:53:01.602559",
     "exception": false,
     "start_time": "2025-04-06T17:53:01.594406",
     "status": "completed"
    },
    "tags": []
   },
   "source": [
    "# Limpando os Dados\n",
    "#### Cleaning the data\n",
    "* Nesta etapa, os dados são limpos para garantir que estejam livres de erros, inconsistências e valores ausentes. Isso pode envolver a remoção de duplicatas, preenchimento de valores ausentes, correção de erros de digitação e normalização de dados.\n",
    "\n",
    "* In this step, the data is cleaned to ensure it is free of errors, inconsistencies, and missing values. This may involve removing duplicates, filling in missing values, correcting typos, and normalizing data."
   ]
  },
  {
   "cell_type": "code",
   "execution_count": 5,
   "id": "2487ec9c",
   "metadata": {
    "execution": {
     "iopub.execute_input": "2025-04-06T17:53:01.621725Z",
     "iopub.status.busy": "2025-04-06T17:53:01.620282Z",
     "iopub.status.idle": "2025-04-06T17:53:01.652059Z",
     "shell.execute_reply": "2025-04-06T17:53:01.650466Z"
    },
    "papermill": {
     "duration": 0.043813,
     "end_time": "2025-04-06T17:53:01.654193",
     "exception": false,
     "start_time": "2025-04-06T17:53:01.610380",
     "status": "completed"
    },
    "tags": []
   },
   "outputs": [
    {
     "data": {
      "text/html": [
       "<style>\n",
       ".list-inline {list-style: none; margin:0; padding: 0}\n",
       ".list-inline>li {display: inline-block}\n",
       ".list-inline>li:not(:last-child)::after {content: \"\\00b7\"; padding: 0 .5ex}\n",
       "</style>\n",
       "<ol class=list-inline><li>'Id'</li><li>'SleepDay'</li><li>'TotalSleepRecords'</li><li>'TotalMinutesAsleep'</li><li>'TotalTimeInBed'</li></ol>\n"
      ],
      "text/latex": [
       "\\begin{enumerate*}\n",
       "\\item 'Id'\n",
       "\\item 'SleepDay'\n",
       "\\item 'TotalSleepRecords'\n",
       "\\item 'TotalMinutesAsleep'\n",
       "\\item 'TotalTimeInBed'\n",
       "\\end{enumerate*}\n"
      ],
      "text/markdown": [
       "1. 'Id'\n",
       "2. 'SleepDay'\n",
       "3. 'TotalSleepRecords'\n",
       "4. 'TotalMinutesAsleep'\n",
       "5. 'TotalTimeInBed'\n",
       "\n",
       "\n"
      ],
      "text/plain": [
       "[1] \"Id\"                 \"SleepDay\"           \"TotalSleepRecords\" \n",
       "[4] \"TotalMinutesAsleep\" \"TotalTimeInBed\"    "
      ]
     },
     "metadata": {},
     "output_type": "display_data"
    },
    {
     "data": {
      "text/html": [
       "<style>\n",
       ".list-inline {list-style: none; margin:0; padding: 0}\n",
       ".list-inline>li {display: inline-block}\n",
       ".list-inline>li:not(:last-child)::after {content: \"\\00b7\"; padding: 0 .5ex}\n",
       "</style>\n",
       "<ol class=list-inline><li>'Id'</li><li>'ActivityDate'</li><li>'TotalSteps'</li><li>'TotalDistance'</li><li>'TrackerDistance'</li><li>'LoggedActivitiesDistance'</li><li>'VeryActiveDistance'</li><li>'ModeratelyActiveDistance'</li><li>'LightActiveDistance'</li><li>'SedentaryActiveDistance'</li><li>'VeryActiveMinutes'</li><li>'FairlyActiveMinutes'</li><li>'LightlyActiveMinutes'</li><li>'SedentaryMinutes'</li><li>'Calories'</li></ol>\n"
      ],
      "text/latex": [
       "\\begin{enumerate*}\n",
       "\\item 'Id'\n",
       "\\item 'ActivityDate'\n",
       "\\item 'TotalSteps'\n",
       "\\item 'TotalDistance'\n",
       "\\item 'TrackerDistance'\n",
       "\\item 'LoggedActivitiesDistance'\n",
       "\\item 'VeryActiveDistance'\n",
       "\\item 'ModeratelyActiveDistance'\n",
       "\\item 'LightActiveDistance'\n",
       "\\item 'SedentaryActiveDistance'\n",
       "\\item 'VeryActiveMinutes'\n",
       "\\item 'FairlyActiveMinutes'\n",
       "\\item 'LightlyActiveMinutes'\n",
       "\\item 'SedentaryMinutes'\n",
       "\\item 'Calories'\n",
       "\\end{enumerate*}\n"
      ],
      "text/markdown": [
       "1. 'Id'\n",
       "2. 'ActivityDate'\n",
       "3. 'TotalSteps'\n",
       "4. 'TotalDistance'\n",
       "5. 'TrackerDistance'\n",
       "6. 'LoggedActivitiesDistance'\n",
       "7. 'VeryActiveDistance'\n",
       "8. 'ModeratelyActiveDistance'\n",
       "9. 'LightActiveDistance'\n",
       "10. 'SedentaryActiveDistance'\n",
       "11. 'VeryActiveMinutes'\n",
       "12. 'FairlyActiveMinutes'\n",
       "13. 'LightlyActiveMinutes'\n",
       "14. 'SedentaryMinutes'\n",
       "15. 'Calories'\n",
       "\n",
       "\n"
      ],
      "text/plain": [
       " [1] \"Id\"                       \"ActivityDate\"            \n",
       " [3] \"TotalSteps\"               \"TotalDistance\"           \n",
       " [5] \"TrackerDistance\"          \"LoggedActivitiesDistance\"\n",
       " [7] \"VeryActiveDistance\"       \"ModeratelyActiveDistance\"\n",
       " [9] \"LightActiveDistance\"      \"SedentaryActiveDistance\" \n",
       "[11] \"VeryActiveMinutes\"        \"FairlyActiveMinutes\"     \n",
       "[13] \"LightlyActiveMinutes\"     \"SedentaryMinutes\"        \n",
       "[15] \"Calories\"                "
      ]
     },
     "metadata": {},
     "output_type": "display_data"
    },
    {
     "data": {
      "text/html": [
       "<style>\n",
       ".list-inline {list-style: none; margin:0; padding: 0}\n",
       ".list-inline>li {display: inline-block}\n",
       ".list-inline>li:not(:last-child)::after {content: \"\\00b7\"; padding: 0 .5ex}\n",
       "</style>\n",
       "<ol class=list-inline><li>'Id'</li><li>'ActivityHour'</li><li>'TotalIntensity'</li><li>'AverageIntensity'</li></ol>\n"
      ],
      "text/latex": [
       "\\begin{enumerate*}\n",
       "\\item 'Id'\n",
       "\\item 'ActivityHour'\n",
       "\\item 'TotalIntensity'\n",
       "\\item 'AverageIntensity'\n",
       "\\end{enumerate*}\n"
      ],
      "text/markdown": [
       "1. 'Id'\n",
       "2. 'ActivityHour'\n",
       "3. 'TotalIntensity'\n",
       "4. 'AverageIntensity'\n",
       "\n",
       "\n"
      ],
      "text/plain": [
       "[1] \"Id\"               \"ActivityHour\"     \"TotalIntensity\"   \"AverageIntensity\""
      ]
     },
     "metadata": {},
     "output_type": "display_data"
    },
    {
     "data": {
      "text/html": [
       "<style>\n",
       ".list-inline {list-style: none; margin:0; padding: 0}\n",
       ".list-inline>li {display: inline-block}\n",
       ".list-inline>li:not(:last-child)::after {content: \"\\00b7\"; padding: 0 .5ex}\n",
       "</style>\n",
       "<ol class=list-inline><li>'Id'</li><li>'ActivityHour'</li><li>'Calories'</li></ol>\n"
      ],
      "text/latex": [
       "\\begin{enumerate*}\n",
       "\\item 'Id'\n",
       "\\item 'ActivityHour'\n",
       "\\item 'Calories'\n",
       "\\end{enumerate*}\n"
      ],
      "text/markdown": [
       "1. 'Id'\n",
       "2. 'ActivityHour'\n",
       "3. 'Calories'\n",
       "\n",
       "\n"
      ],
      "text/plain": [
       "[1] \"Id\"           \"ActivityHour\" \"Calories\"    "
      ]
     },
     "metadata": {},
     "output_type": "display_data"
    }
   ],
   "source": [
    "# Contando a quantidade de colunas\n",
    "# Counting the number of columns\n",
    "colnames(sono)\n",
    "colnames(atividade)\n",
    "colnames(intensidade)\n",
    "colnames(calorias)\n"
   ]
  },
  {
   "cell_type": "code",
   "execution_count": 6,
   "id": "1e2876c8",
   "metadata": {
    "execution": {
     "iopub.execute_input": "2025-04-06T17:53:01.674833Z",
     "iopub.status.busy": "2025-04-06T17:53:01.673394Z",
     "iopub.status.idle": "2025-04-06T17:53:01.745048Z",
     "shell.execute_reply": "2025-04-06T17:53:01.743093Z"
    },
    "papermill": {
     "duration": 0.084499,
     "end_time": "2025-04-06T17:53:01.747249",
     "exception": false,
     "start_time": "2025-04-06T17:53:01.662750",
     "status": "completed"
    },
    "tags": []
   },
   "outputs": [
    {
     "name": "stdout",
     "output_type": "stream",
     "text": [
      "'data.frame':\t413 obs. of  5 variables:\n",
      " $ Id                : num  1.5e+09 1.5e+09 1.5e+09 1.5e+09 1.5e+09 ...\n",
      " $ SleepDay          : chr  \"4/12/2016 12:00:00 AM\" \"4/13/2016 12:00:00 AM\" \"4/15/2016 12:00:00 AM\" \"4/16/2016 12:00:00 AM\" ...\n",
      " $ TotalSleepRecords : int  1 2 1 2 1 1 1 1 1 1 ...\n",
      " $ TotalMinutesAsleep: int  327 384 412 340 700 304 360 325 361 430 ...\n",
      " $ TotalTimeInBed    : int  346 407 442 367 712 320 377 364 384 449 ...\n",
      "'data.frame':\t940 obs. of  15 variables:\n",
      " $ Id                      : num  1.5e+09 1.5e+09 1.5e+09 1.5e+09 1.5e+09 ...\n",
      " $ ActivityDate            : chr  \"4/12/2016\" \"4/13/2016\" \"4/14/2016\" \"4/15/2016\" ...\n",
      " $ TotalSteps              : int  13162 10735 10460 9762 12669 9705 13019 15506 10544 9819 ...\n",
      " $ TotalDistance           : num  8.5 6.97 6.74 6.28 8.16 ...\n",
      " $ TrackerDistance         : num  8.5 6.97 6.74 6.28 8.16 ...\n",
      " $ LoggedActivitiesDistance: num  0 0 0 0 0 0 0 0 0 0 ...\n",
      " $ VeryActiveDistance      : num  1.88 1.57 2.44 2.14 2.71 ...\n",
      " $ ModeratelyActiveDistance: num  0.55 0.69 0.4 1.26 0.41 ...\n",
      " $ LightActiveDistance     : num  6.06 4.71 3.91 2.83 5.04 ...\n",
      " $ SedentaryActiveDistance : num  0 0 0 0 0 0 0 0 0 0 ...\n",
      " $ VeryActiveMinutes       : int  25 21 30 29 36 38 42 50 28 19 ...\n",
      " $ FairlyActiveMinutes     : int  13 19 11 34 10 20 16 31 12 8 ...\n",
      " $ LightlyActiveMinutes    : int  328 217 181 209 221 164 233 264 205 211 ...\n",
      " $ SedentaryMinutes        : int  728 776 1218 726 773 539 1149 775 818 838 ...\n",
      " $ Calories                : int  1985 1797 1776 1745 1863 1728 1921 2035 1786 1775 ...\n",
      "'data.frame':\t22099 obs. of  4 variables:\n",
      " $ Id              : num  1.5e+09 1.5e+09 1.5e+09 1.5e+09 1.5e+09 ...\n",
      " $ ActivityHour    : chr  \"4/12/2016 12:00:00 AM\" \"4/12/2016 1:00:00 AM\" \"4/12/2016 2:00:00 AM\" \"4/12/2016 3:00:00 AM\" ...\n",
      " $ TotalIntensity  : int  20 8 7 0 0 0 0 0 13 30 ...\n",
      " $ AverageIntensity: num  0.333 0.133 0.117 0 0 ...\n",
      "'data.frame':\t22099 obs. of  3 variables:\n",
      " $ Id          : num  1.5e+09 1.5e+09 1.5e+09 1.5e+09 1.5e+09 ...\n",
      " $ ActivityHour: chr  \"4/12/2016 12:00:00 AM\" \"4/12/2016 1:00:00 AM\" \"4/12/2016 2:00:00 AM\" \"4/12/2016 3:00:00 AM\" ...\n",
      " $ Calories    : int  81 61 59 47 48 48 48 47 68 141 ...\n"
     ]
    }
   ],
   "source": [
    "# Contando as quantidades de string\n",
    "# Counting string quantities\n",
    "str(sono)\n",
    "str(atividade)\n",
    "str(intensidade)\n",
    "str(calorias)\n"
   ]
  },
  {
   "cell_type": "code",
   "execution_count": 7,
   "id": "7bfdd3d1",
   "metadata": {
    "execution": {
     "iopub.execute_input": "2025-04-06T17:53:01.768722Z",
     "iopub.status.busy": "2025-04-06T17:53:01.767274Z",
     "iopub.status.idle": "2025-04-06T17:53:01.803086Z",
     "shell.execute_reply": "2025-04-06T17:53:01.801446Z"
    },
    "papermill": {
     "duration": 0.04899,
     "end_time": "2025-04-06T17:53:01.805126",
     "exception": false,
     "start_time": "2025-04-06T17:53:01.756136",
     "status": "completed"
    },
    "tags": []
   },
   "outputs": [
    {
     "name": "stdout",
     "output_type": "stream",
     "text": [
      "[1] \"dataframes com valores ausentes\"\n"
     ]
    },
    {
     "data": {
      "text/html": [
       "0"
      ],
      "text/latex": [
       "0"
      ],
      "text/markdown": [
       "0"
      ],
      "text/plain": [
       "[1] 0"
      ]
     },
     "metadata": {},
     "output_type": "display_data"
    },
    {
     "data": {
      "text/html": [
       "0"
      ],
      "text/latex": [
       "0"
      ],
      "text/markdown": [
       "0"
      ],
      "text/plain": [
       "[1] 0"
      ]
     },
     "metadata": {},
     "output_type": "display_data"
    },
    {
     "data": {
      "text/html": [
       "0"
      ],
      "text/latex": [
       "0"
      ],
      "text/markdown": [
       "0"
      ],
      "text/plain": [
       "[1] 0"
      ]
     },
     "metadata": {},
     "output_type": "display_data"
    },
    {
     "data": {
      "text/html": [
       "0"
      ],
      "text/latex": [
       "0"
      ],
      "text/markdown": [
       "0"
      ],
      "text/plain": [
       "[1] 0"
      ]
     },
     "metadata": {},
     "output_type": "display_data"
    }
   ],
   "source": [
    "# Verificando se há valores ausentes\n",
    "# Checking for missing values\n",
    "print(\"dataframes com valores ausentes\")\n",
    "sum(is.na(atividade))\n",
    "sum(is.na(sono))\n",
    "sum(is.na(calorias))\n",
    "sum(is.na(intensidade))\n"
   ]
  },
  {
   "cell_type": "code",
   "execution_count": 8,
   "id": "fea4350c",
   "metadata": {
    "execution": {
     "iopub.execute_input": "2025-04-06T17:53:01.826804Z",
     "iopub.status.busy": "2025-04-06T17:53:01.825350Z",
     "iopub.status.idle": "2025-04-06T17:53:01.934051Z",
     "shell.execute_reply": "2025-04-06T17:53:01.932389Z"
    },
    "papermill": {
     "duration": 0.121981,
     "end_time": "2025-04-06T17:53:01.936286",
     "exception": false,
     "start_time": "2025-04-06T17:53:01.814305",
     "status": "completed"
    },
    "tags": []
   },
   "outputs": [
    {
     "name": "stdout",
     "output_type": "stream",
     "text": [
      "[1] \" dataframes com valores duplicados em Sono\"\n"
     ]
    },
    {
     "data": {
      "text/html": [
       "<ol>\n",
       "\t<li>0</li>\n",
       "\t<li>0</li>\n",
       "\t<li>0</li>\n",
       "\t<li>3</li>\n",
       "</ol>\n"
      ],
      "text/latex": [
       "\\begin{enumerate}\n",
       "\\item 0\n",
       "\\item 0\n",
       "\\item 0\n",
       "\\item 3\n",
       "\\end{enumerate}\n"
      ],
      "text/markdown": [
       "1. 0\n",
       "2. 0\n",
       "3. 0\n",
       "4. 3\n",
       "\n",
       "\n"
      ],
      "text/plain": [
       "[[1]]\n",
       "[1] 0\n",
       "\n",
       "[[2]]\n",
       "[1] 0\n",
       "\n",
       "[[3]]\n",
       "[1] 0\n",
       "\n",
       "[[4]]\n",
       "[1] 3\n"
      ]
     },
     "metadata": {},
     "output_type": "display_data"
    }
   ],
   "source": [
    "# Verificando se há duplicatas\n",
    "print(\" dataframes com valores duplicados em Sono\")\n",
    "lapply(list(atividade, calorias, intensidade,sono), function(x) sum(duplicated(x)))"
   ]
  },
  {
   "cell_type": "code",
   "execution_count": 9,
   "id": "e3eaa897",
   "metadata": {
    "execution": {
     "iopub.execute_input": "2025-04-06T17:53:01.959014Z",
     "iopub.status.busy": "2025-04-06T17:53:01.957350Z",
     "iopub.status.idle": "2025-04-06T17:53:01.979000Z",
     "shell.execute_reply": "2025-04-06T17:53:01.977396Z"
    },
    "papermill": {
     "duration": 0.035306,
     "end_time": "2025-04-06T17:53:01.981103",
     "exception": false,
     "start_time": "2025-04-06T17:53:01.945797",
     "status": "completed"
    },
    "tags": []
   },
   "outputs": [
    {
     "name": "stdout",
     "output_type": "stream",
     "text": [
      "[1] \"dataframes com linhas duplicadas\"\n"
     ]
    },
    {
     "data": {
      "text/html": [
       "3"
      ],
      "text/latex": [
       "3"
      ],
      "text/markdown": [
       "3"
      ],
      "text/plain": [
       "[1] 3"
      ]
     },
     "metadata": {},
     "output_type": "display_data"
    }
   ],
   "source": [
    "print(\"dataframes com linhas duplicadas\")\n",
    "sum(duplicated(sono))"
   ]
  },
  {
   "cell_type": "code",
   "execution_count": 10,
   "id": "a2cc8fb7",
   "metadata": {
    "execution": {
     "iopub.execute_input": "2025-04-06T17:53:02.004250Z",
     "iopub.status.busy": "2025-04-06T17:53:02.002705Z",
     "iopub.status.idle": "2025-04-06T17:53:02.017656Z",
     "shell.execute_reply": "2025-04-06T17:53:02.016026Z"
    },
    "papermill": {
     "duration": 0.028808,
     "end_time": "2025-04-06T17:53:02.019863",
     "exception": false,
     "start_time": "2025-04-06T17:53:01.991055",
     "status": "completed"
    },
    "tags": []
   },
   "outputs": [],
   "source": [
    "# Removendo duplicatas\n",
    "\n",
    "sono <- sono[!duplicated(sono),]"
   ]
  },
  {
   "cell_type": "code",
   "execution_count": 11,
   "id": "a7cf6e41",
   "metadata": {
    "execution": {
     "iopub.execute_input": "2025-04-06T17:53:02.042786Z",
     "iopub.status.busy": "2025-04-06T17:53:02.041184Z",
     "iopub.status.idle": "2025-04-06T17:53:02.059741Z",
     "shell.execute_reply": "2025-04-06T17:53:02.058143Z"
    },
    "papermill": {
     "duration": 0.032455,
     "end_time": "2025-04-06T17:53:02.061888",
     "exception": false,
     "start_time": "2025-04-06T17:53:02.029433",
     "status": "completed"
    },
    "tags": []
   },
   "outputs": [
    {
     "data": {
      "text/html": [
       "0"
      ],
      "text/latex": [
       "0"
      ],
      "text/markdown": [
       "0"
      ],
      "text/plain": [
       "[1] 0"
      ]
     },
     "metadata": {},
     "output_type": "display_data"
    }
   ],
   "source": [
    "# Conferindo a remoção de Duplicatas\n",
    "sum(duplicated(sono))"
   ]
  },
  {
   "cell_type": "markdown",
   "id": "71e6ef58",
   "metadata": {
    "papermill": {
     "duration": 0.009786,
     "end_time": "2025-04-06T17:53:02.081315",
     "exception": false,
     "start_time": "2025-04-06T17:53:02.071529",
     "status": "completed"
    },
    "tags": []
   },
   "source": [
    "## Renomeando os Nomes das Colunas"
   ]
  },
  {
   "cell_type": "code",
   "execution_count": 12,
   "id": "126dbf79",
   "metadata": {
    "execution": {
     "iopub.execute_input": "2025-04-06T17:53:02.104301Z",
     "iopub.status.busy": "2025-04-06T17:53:02.102779Z",
     "iopub.status.idle": "2025-04-06T17:53:02.167832Z",
     "shell.execute_reply": "2025-04-06T17:53:02.166242Z"
    },
    "papermill": {
     "duration": 0.078829,
     "end_time": "2025-04-06T17:53:02.169917",
     "exception": false,
     "start_time": "2025-04-06T17:53:02.091088",
     "status": "completed"
    },
    "tags": []
   },
   "outputs": [
    {
     "data": {
      "text/html": [
       "<style>\n",
       ".list-inline {list-style: none; margin:0; padding: 0}\n",
       ".list-inline>li {display: inline-block}\n",
       ".list-inline>li:not(:last-child)::after {content: \"\\00b7\"; padding: 0 .5ex}\n",
       "</style>\n",
       "<ol class=list-inline><li>'Id'</li><li>'data'</li><li>'passos_totais'</li><li>'distancia_total'</li><li>'distancia_rastreador'</li><li>'distancia_atividades_registradas'</li><li>'distancia_muito_ativa'</li><li>'distancia_moderadamente_ativa'</li><li>'distancia_ativa_leve'</li><li>'distancia_ativa_sedentaria'</li><li>'minutos_muito_ativos'</li><li>'minutos_razoavelmente_ativos'</li><li>'minutos_levemente_ativos'</li><li>'minutos_sedentarios'</li><li>'calorias'</li></ol>\n"
      ],
      "text/latex": [
       "\\begin{enumerate*}\n",
       "\\item 'Id'\n",
       "\\item 'data'\n",
       "\\item 'passos\\_totais'\n",
       "\\item 'distancia\\_total'\n",
       "\\item 'distancia\\_rastreador'\n",
       "\\item 'distancia\\_atividades\\_registradas'\n",
       "\\item 'distancia\\_muito\\_ativa'\n",
       "\\item 'distancia\\_moderadamente\\_ativa'\n",
       "\\item 'distancia\\_ativa\\_leve'\n",
       "\\item 'distancia\\_ativa\\_sedentaria'\n",
       "\\item 'minutos\\_muito\\_ativos'\n",
       "\\item 'minutos\\_razoavelmente\\_ativos'\n",
       "\\item 'minutos\\_levemente\\_ativos'\n",
       "\\item 'minutos\\_sedentarios'\n",
       "\\item 'calorias'\n",
       "\\end{enumerate*}\n"
      ],
      "text/markdown": [
       "1. 'Id'\n",
       "2. 'data'\n",
       "3. 'passos_totais'\n",
       "4. 'distancia_total'\n",
       "5. 'distancia_rastreador'\n",
       "6. 'distancia_atividades_registradas'\n",
       "7. 'distancia_muito_ativa'\n",
       "8. 'distancia_moderadamente_ativa'\n",
       "9. 'distancia_ativa_leve'\n",
       "10. 'distancia_ativa_sedentaria'\n",
       "11. 'minutos_muito_ativos'\n",
       "12. 'minutos_razoavelmente_ativos'\n",
       "13. 'minutos_levemente_ativos'\n",
       "14. 'minutos_sedentarios'\n",
       "15. 'calorias'\n",
       "\n",
       "\n"
      ],
      "text/plain": [
       " [1] \"Id\"                               \"data\"                            \n",
       " [3] \"passos_totais\"                    \"distancia_total\"                 \n",
       " [5] \"distancia_rastreador\"             \"distancia_atividades_registradas\"\n",
       " [7] \"distancia_muito_ativa\"            \"distancia_moderadamente_ativa\"   \n",
       " [9] \"distancia_ativa_leve\"             \"distancia_ativa_sedentaria\"      \n",
       "[11] \"minutos_muito_ativos\"             \"minutos_razoavelmente_ativos\"    \n",
       "[13] \"minutos_levemente_ativos\"         \"minutos_sedentarios\"             \n",
       "[15] \"calorias\"                        "
      ]
     },
     "metadata": {},
     "output_type": "display_data"
    }
   ],
   "source": [
    "atividade <- atividade %>%\n",
    "  rename(data = ActivityDate,\n",
    "         passos_totais = TotalSteps,\n",
    "         distancia_total = TotalDistance,\n",
    "         distancia_rastreador = TrackerDistance,\n",
    "         distancia_atividades_registradas = LoggedActivitiesDistance,\n",
    "         distancia_muito_ativa = VeryActiveDistance,\n",
    "         distancia_moderadamente_ativa = ModeratelyActiveDistance,\n",
    "         distancia_ativa_leve = LightActiveDistance,\n",
    "         distancia_ativa_sedentaria = SedentaryActiveDistance,\n",
    "         minutos_muito_ativos = VeryActiveMinutes,\n",
    "         minutos_razoavelmente_ativos = FairlyActiveMinutes,\n",
    "         minutos_levemente_ativos = LightlyActiveMinutes,\n",
    "         minutos_sedentarios = SedentaryMinutes,\n",
    "         calorias = Calories)\n",
    "colnames(atividade)"
   ]
  },
  {
   "cell_type": "code",
   "execution_count": 13,
   "id": "21c4534c",
   "metadata": {
    "execution": {
     "iopub.execute_input": "2025-04-06T17:53:02.193115Z",
     "iopub.status.busy": "2025-04-06T17:53:02.191647Z",
     "iopub.status.idle": "2025-04-06T17:53:02.213275Z",
     "shell.execute_reply": "2025-04-06T17:53:02.211693Z"
    },
    "papermill": {
     "duration": 0.035699,
     "end_time": "2025-04-06T17:53:02.215431",
     "exception": false,
     "start_time": "2025-04-06T17:53:02.179732",
     "status": "completed"
    },
    "tags": []
   },
   "outputs": [
    {
     "data": {
      "text/html": [
       "<style>\n",
       ".list-inline {list-style: none; margin:0; padding: 0}\n",
       ".list-inline>li {display: inline-block}\n",
       ".list-inline>li:not(:last-child)::after {content: \"\\00b7\"; padding: 0 .5ex}\n",
       "</style>\n",
       "<ol class=list-inline><li>'Id'</li><li>'data'</li><li>'registros_totais_sono'</li><li>'total_minutos_dormindo'</li><li>'tempo_total_cama'</li></ol>\n"
      ],
      "text/latex": [
       "\\begin{enumerate*}\n",
       "\\item 'Id'\n",
       "\\item 'data'\n",
       "\\item 'registros\\_totais\\_sono'\n",
       "\\item 'total\\_minutos\\_dormindo'\n",
       "\\item 'tempo\\_total\\_cama'\n",
       "\\end{enumerate*}\n"
      ],
      "text/markdown": [
       "1. 'Id'\n",
       "2. 'data'\n",
       "3. 'registros_totais_sono'\n",
       "4. 'total_minutos_dormindo'\n",
       "5. 'tempo_total_cama'\n",
       "\n",
       "\n"
      ],
      "text/plain": [
       "[1] \"Id\"                     \"data\"                   \"registros_totais_sono\" \n",
       "[4] \"total_minutos_dormindo\" \"tempo_total_cama\"      "
      ]
     },
     "metadata": {},
     "output_type": "display_data"
    }
   ],
   "source": [
    "sono <- sono %>%\n",
    "  rename(data = SleepDay,\n",
    "         registros_totais_sono = TotalSleepRecords,\n",
    "         total_minutos_dormindo = TotalMinutesAsleep,\n",
    "         tempo_total_cama = TotalTimeInBed)\n",
    "colnames(sono)"
   ]
  },
  {
   "cell_type": "code",
   "execution_count": 14,
   "id": "c46d94c9",
   "metadata": {
    "execution": {
     "iopub.execute_input": "2025-04-06T17:53:02.239124Z",
     "iopub.status.busy": "2025-04-06T17:53:02.237672Z",
     "iopub.status.idle": "2025-04-06T17:53:02.258993Z",
     "shell.execute_reply": "2025-04-06T17:53:02.257395Z"
    },
    "papermill": {
     "duration": 0.035326,
     "end_time": "2025-04-06T17:53:02.261092",
     "exception": false,
     "start_time": "2025-04-06T17:53:02.225766",
     "status": "completed"
    },
    "tags": []
   },
   "outputs": [
    {
     "data": {
      "text/html": [
       "<style>\n",
       ".list-inline {list-style: none; margin:0; padding: 0}\n",
       ".list-inline>li {display: inline-block}\n",
       ".list-inline>li:not(:last-child)::after {content: \"\\00b7\"; padding: 0 .5ex}\n",
       "</style>\n",
       "<ol class=list-inline><li>'Id'</li><li>'data_hora'</li><li>'calorias'</li></ol>\n"
      ],
      "text/latex": [
       "\\begin{enumerate*}\n",
       "\\item 'Id'\n",
       "\\item 'data\\_hora'\n",
       "\\item 'calorias'\n",
       "\\end{enumerate*}\n"
      ],
      "text/markdown": [
       "1. 'Id'\n",
       "2. 'data_hora'\n",
       "3. 'calorias'\n",
       "\n",
       "\n"
      ],
      "text/plain": [
       "[1] \"Id\"        \"data_hora\" \"calorias\" "
      ]
     },
     "metadata": {},
     "output_type": "display_data"
    }
   ],
   "source": [
    "calorias <- calorias %>%\n",
    "  rename(data_hora = ActivityHour,\n",
    "         calorias = Calories)\n",
    "colnames(calorias)\n"
   ]
  },
  {
   "cell_type": "code",
   "execution_count": 15,
   "id": "d74ddacd",
   "metadata": {
    "execution": {
     "iopub.execute_input": "2025-04-06T17:53:02.285152Z",
     "iopub.status.busy": "2025-04-06T17:53:02.283409Z",
     "iopub.status.idle": "2025-04-06T17:53:02.306340Z",
     "shell.execute_reply": "2025-04-06T17:53:02.304232Z"
    },
    "papermill": {
     "duration": 0.037604,
     "end_time": "2025-04-06T17:53:02.308949",
     "exception": false,
     "start_time": "2025-04-06T17:53:02.271345",
     "status": "completed"
    },
    "tags": []
   },
   "outputs": [
    {
     "data": {
      "text/html": [
       "<style>\n",
       ".list-inline {list-style: none; margin:0; padding: 0}\n",
       ".list-inline>li {display: inline-block}\n",
       ".list-inline>li:not(:last-child)::after {content: \"\\00b7\"; padding: 0 .5ex}\n",
       "</style>\n",
       "<ol class=list-inline><li>'Id'</li><li>'data_hora'</li><li>'intensidade_total'</li><li>'intensidade_media'</li></ol>\n"
      ],
      "text/latex": [
       "\\begin{enumerate*}\n",
       "\\item 'Id'\n",
       "\\item 'data\\_hora'\n",
       "\\item 'intensidade\\_total'\n",
       "\\item 'intensidade\\_media'\n",
       "\\end{enumerate*}\n"
      ],
      "text/markdown": [
       "1. 'Id'\n",
       "2. 'data_hora'\n",
       "3. 'intensidade_total'\n",
       "4. 'intensidade_media'\n",
       "\n",
       "\n"
      ],
      "text/plain": [
       "[1] \"Id\"                \"data_hora\"         \"intensidade_total\"\n",
       "[4] \"intensidade_media\""
      ]
     },
     "metadata": {},
     "output_type": "display_data"
    }
   ],
   "source": [
    "intensidade <- intensidade %>%\n",
    "  rename(data_hora = ActivityHour,\n",
    "         intensidade_total = TotalIntensity,\n",
    "         intensidade_media = AverageIntensity)\n",
    "colnames(intensidade)"
   ]
  },
  {
   "cell_type": "markdown",
   "id": "18c61162",
   "metadata": {
    "papermill": {
     "duration": 0.010299,
     "end_time": "2025-04-06T17:53:02.330097",
     "exception": false,
     "start_time": "2025-04-06T17:53:02.319798",
     "status": "completed"
    },
    "tags": []
   },
   "source": [
    "## Convertendo o Formato de datas"
   ]
  },
  {
   "cell_type": "code",
   "execution_count": 16,
   "id": "af07e249",
   "metadata": {
    "execution": {
     "iopub.execute_input": "2025-04-06T17:53:02.353861Z",
     "iopub.status.busy": "2025-04-06T17:53:02.352424Z",
     "iopub.status.idle": "2025-04-06T17:53:02.409150Z",
     "shell.execute_reply": "2025-04-06T17:53:02.407574Z"
    },
    "papermill": {
     "duration": 0.070879,
     "end_time": "2025-04-06T17:53:02.411189",
     "exception": false,
     "start_time": "2025-04-06T17:53:02.340310",
     "status": "completed"
    },
    "tags": []
   },
   "outputs": [
    {
     "data": {
      "text/html": [
       "<table class=\"dataframe\">\n",
       "<caption>A data.frame: 6 × 15</caption>\n",
       "<thead>\n",
       "\t<tr><th></th><th scope=col>Id</th><th scope=col>data</th><th scope=col>passos_totais</th><th scope=col>distancia_total</th><th scope=col>distancia_rastreador</th><th scope=col>distancia_atividades_registradas</th><th scope=col>distancia_muito_ativa</th><th scope=col>distancia_moderadamente_ativa</th><th scope=col>distancia_ativa_leve</th><th scope=col>distancia_ativa_sedentaria</th><th scope=col>minutos_muito_ativos</th><th scope=col>minutos_razoavelmente_ativos</th><th scope=col>minutos_levemente_ativos</th><th scope=col>minutos_sedentarios</th><th scope=col>calorias</th></tr>\n",
       "\t<tr><th></th><th scope=col>&lt;dbl&gt;</th><th scope=col>&lt;date&gt;</th><th scope=col>&lt;int&gt;</th><th scope=col>&lt;dbl&gt;</th><th scope=col>&lt;dbl&gt;</th><th scope=col>&lt;dbl&gt;</th><th scope=col>&lt;dbl&gt;</th><th scope=col>&lt;dbl&gt;</th><th scope=col>&lt;dbl&gt;</th><th scope=col>&lt;dbl&gt;</th><th scope=col>&lt;int&gt;</th><th scope=col>&lt;int&gt;</th><th scope=col>&lt;int&gt;</th><th scope=col>&lt;int&gt;</th><th scope=col>&lt;int&gt;</th></tr>\n",
       "</thead>\n",
       "<tbody>\n",
       "\t<tr><th scope=row>1</th><td>1503960366</td><td>2016-04-12</td><td>13162</td><td>8.50</td><td>8.50</td><td>0</td><td>1.88</td><td>0.55</td><td>6.06</td><td>0</td><td>25</td><td>13</td><td>328</td><td> 728</td><td>1985</td></tr>\n",
       "\t<tr><th scope=row>2</th><td>1503960366</td><td>2016-04-13</td><td>10735</td><td>6.97</td><td>6.97</td><td>0</td><td>1.57</td><td>0.69</td><td>4.71</td><td>0</td><td>21</td><td>19</td><td>217</td><td> 776</td><td>1797</td></tr>\n",
       "\t<tr><th scope=row>3</th><td>1503960366</td><td>2016-04-14</td><td>10460</td><td>6.74</td><td>6.74</td><td>0</td><td>2.44</td><td>0.40</td><td>3.91</td><td>0</td><td>30</td><td>11</td><td>181</td><td>1218</td><td>1776</td></tr>\n",
       "\t<tr><th scope=row>4</th><td>1503960366</td><td>2016-04-15</td><td> 9762</td><td>6.28</td><td>6.28</td><td>0</td><td>2.14</td><td>1.26</td><td>2.83</td><td>0</td><td>29</td><td>34</td><td>209</td><td> 726</td><td>1745</td></tr>\n",
       "\t<tr><th scope=row>5</th><td>1503960366</td><td>2016-04-16</td><td>12669</td><td>8.16</td><td>8.16</td><td>0</td><td>2.71</td><td>0.41</td><td>5.04</td><td>0</td><td>36</td><td>10</td><td>221</td><td> 773</td><td>1863</td></tr>\n",
       "\t<tr><th scope=row>6</th><td>1503960366</td><td>2016-04-17</td><td> 9705</td><td>6.48</td><td>6.48</td><td>0</td><td>3.19</td><td>0.78</td><td>2.51</td><td>0</td><td>38</td><td>20</td><td>164</td><td> 539</td><td>1728</td></tr>\n",
       "</tbody>\n",
       "</table>\n"
      ],
      "text/latex": [
       "A data.frame: 6 × 15\n",
       "\\begin{tabular}{r|lllllllllllllll}\n",
       "  & Id & data & passos\\_totais & distancia\\_total & distancia\\_rastreador & distancia\\_atividades\\_registradas & distancia\\_muito\\_ativa & distancia\\_moderadamente\\_ativa & distancia\\_ativa\\_leve & distancia\\_ativa\\_sedentaria & minutos\\_muito\\_ativos & minutos\\_razoavelmente\\_ativos & minutos\\_levemente\\_ativos & minutos\\_sedentarios & calorias\\\\\n",
       "  & <dbl> & <date> & <int> & <dbl> & <dbl> & <dbl> & <dbl> & <dbl> & <dbl> & <dbl> & <int> & <int> & <int> & <int> & <int>\\\\\n",
       "\\hline\n",
       "\t1 & 1503960366 & 2016-04-12 & 13162 & 8.50 & 8.50 & 0 & 1.88 & 0.55 & 6.06 & 0 & 25 & 13 & 328 &  728 & 1985\\\\\n",
       "\t2 & 1503960366 & 2016-04-13 & 10735 & 6.97 & 6.97 & 0 & 1.57 & 0.69 & 4.71 & 0 & 21 & 19 & 217 &  776 & 1797\\\\\n",
       "\t3 & 1503960366 & 2016-04-14 & 10460 & 6.74 & 6.74 & 0 & 2.44 & 0.40 & 3.91 & 0 & 30 & 11 & 181 & 1218 & 1776\\\\\n",
       "\t4 & 1503960366 & 2016-04-15 &  9762 & 6.28 & 6.28 & 0 & 2.14 & 1.26 & 2.83 & 0 & 29 & 34 & 209 &  726 & 1745\\\\\n",
       "\t5 & 1503960366 & 2016-04-16 & 12669 & 8.16 & 8.16 & 0 & 2.71 & 0.41 & 5.04 & 0 & 36 & 10 & 221 &  773 & 1863\\\\\n",
       "\t6 & 1503960366 & 2016-04-17 &  9705 & 6.48 & 6.48 & 0 & 3.19 & 0.78 & 2.51 & 0 & 38 & 20 & 164 &  539 & 1728\\\\\n",
       "\\end{tabular}\n"
      ],
      "text/markdown": [
       "\n",
       "A data.frame: 6 × 15\n",
       "\n",
       "| <!--/--> | Id &lt;dbl&gt; | data &lt;date&gt; | passos_totais &lt;int&gt; | distancia_total &lt;dbl&gt; | distancia_rastreador &lt;dbl&gt; | distancia_atividades_registradas &lt;dbl&gt; | distancia_muito_ativa &lt;dbl&gt; | distancia_moderadamente_ativa &lt;dbl&gt; | distancia_ativa_leve &lt;dbl&gt; | distancia_ativa_sedentaria &lt;dbl&gt; | minutos_muito_ativos &lt;int&gt; | minutos_razoavelmente_ativos &lt;int&gt; | minutos_levemente_ativos &lt;int&gt; | minutos_sedentarios &lt;int&gt; | calorias &lt;int&gt; |\n",
       "|---|---|---|---|---|---|---|---|---|---|---|---|---|---|---|---|\n",
       "| 1 | 1503960366 | 2016-04-12 | 13162 | 8.50 | 8.50 | 0 | 1.88 | 0.55 | 6.06 | 0 | 25 | 13 | 328 |  728 | 1985 |\n",
       "| 2 | 1503960366 | 2016-04-13 | 10735 | 6.97 | 6.97 | 0 | 1.57 | 0.69 | 4.71 | 0 | 21 | 19 | 217 |  776 | 1797 |\n",
       "| 3 | 1503960366 | 2016-04-14 | 10460 | 6.74 | 6.74 | 0 | 2.44 | 0.40 | 3.91 | 0 | 30 | 11 | 181 | 1218 | 1776 |\n",
       "| 4 | 1503960366 | 2016-04-15 |  9762 | 6.28 | 6.28 | 0 | 2.14 | 1.26 | 2.83 | 0 | 29 | 34 | 209 |  726 | 1745 |\n",
       "| 5 | 1503960366 | 2016-04-16 | 12669 | 8.16 | 8.16 | 0 | 2.71 | 0.41 | 5.04 | 0 | 36 | 10 | 221 |  773 | 1863 |\n",
       "| 6 | 1503960366 | 2016-04-17 |  9705 | 6.48 | 6.48 | 0 | 3.19 | 0.78 | 2.51 | 0 | 38 | 20 | 164 |  539 | 1728 |\n",
       "\n"
      ],
      "text/plain": [
       "  Id         data       passos_totais distancia_total distancia_rastreador\n",
       "1 1503960366 2016-04-12 13162         8.50            8.50                \n",
       "2 1503960366 2016-04-13 10735         6.97            6.97                \n",
       "3 1503960366 2016-04-14 10460         6.74            6.74                \n",
       "4 1503960366 2016-04-15  9762         6.28            6.28                \n",
       "5 1503960366 2016-04-16 12669         8.16            8.16                \n",
       "6 1503960366 2016-04-17  9705         6.48            6.48                \n",
       "  distancia_atividades_registradas distancia_muito_ativa\n",
       "1 0                                1.88                 \n",
       "2 0                                1.57                 \n",
       "3 0                                2.44                 \n",
       "4 0                                2.14                 \n",
       "5 0                                2.71                 \n",
       "6 0                                3.19                 \n",
       "  distancia_moderadamente_ativa distancia_ativa_leve distancia_ativa_sedentaria\n",
       "1 0.55                          6.06                 0                         \n",
       "2 0.69                          4.71                 0                         \n",
       "3 0.40                          3.91                 0                         \n",
       "4 1.26                          2.83                 0                         \n",
       "5 0.41                          5.04                 0                         \n",
       "6 0.78                          2.51                 0                         \n",
       "  minutos_muito_ativos minutos_razoavelmente_ativos minutos_levemente_ativos\n",
       "1 25                   13                           328                     \n",
       "2 21                   19                           217                     \n",
       "3 30                   11                           181                     \n",
       "4 29                   34                           209                     \n",
       "5 36                   10                           221                     \n",
       "6 38                   20                           164                     \n",
       "  minutos_sedentarios calorias\n",
       "1  728                1985    \n",
       "2  776                1797    \n",
       "3 1218                1776    \n",
       "4  726                1745    \n",
       "5  773                1863    \n",
       "6  539                1728    "
      ]
     },
     "metadata": {},
     "output_type": "display_data"
    }
   ],
   "source": [
    "atividade <- atividade %>%\n",
    "  mutate(data = mdy(data))\n",
    "head(atividade)"
   ]
  },
  {
   "cell_type": "code",
   "execution_count": 17,
   "id": "be69a94e",
   "metadata": {
    "execution": {
     "iopub.execute_input": "2025-04-06T17:53:02.435344Z",
     "iopub.status.busy": "2025-04-06T17:53:02.433925Z",
     "iopub.status.idle": "2025-04-06T17:53:02.473600Z",
     "shell.execute_reply": "2025-04-06T17:53:02.472000Z"
    },
    "papermill": {
     "duration": 0.054016,
     "end_time": "2025-04-06T17:53:02.475708",
     "exception": false,
     "start_time": "2025-04-06T17:53:02.421692",
     "status": "completed"
    },
    "tags": []
   },
   "outputs": [
    {
     "data": {
      "text/html": [
       "<table class=\"dataframe\">\n",
       "<caption>A data.frame: 6 × 5</caption>\n",
       "<thead>\n",
       "\t<tr><th></th><th scope=col>Id</th><th scope=col>data</th><th scope=col>registros_totais_sono</th><th scope=col>total_minutos_dormindo</th><th scope=col>tempo_total_cama</th></tr>\n",
       "\t<tr><th></th><th scope=col>&lt;dbl&gt;</th><th scope=col>&lt;dttm&gt;</th><th scope=col>&lt;int&gt;</th><th scope=col>&lt;int&gt;</th><th scope=col>&lt;int&gt;</th></tr>\n",
       "</thead>\n",
       "<tbody>\n",
       "\t<tr><th scope=row>1</th><td>1503960366</td><td>2016-04-12</td><td>1</td><td>327</td><td>346</td></tr>\n",
       "\t<tr><th scope=row>2</th><td>1503960366</td><td>2016-04-13</td><td>2</td><td>384</td><td>407</td></tr>\n",
       "\t<tr><th scope=row>3</th><td>1503960366</td><td>2016-04-15</td><td>1</td><td>412</td><td>442</td></tr>\n",
       "\t<tr><th scope=row>4</th><td>1503960366</td><td>2016-04-16</td><td>2</td><td>340</td><td>367</td></tr>\n",
       "\t<tr><th scope=row>5</th><td>1503960366</td><td>2016-04-17</td><td>1</td><td>700</td><td>712</td></tr>\n",
       "\t<tr><th scope=row>6</th><td>1503960366</td><td>2016-04-19</td><td>1</td><td>304</td><td>320</td></tr>\n",
       "</tbody>\n",
       "</table>\n"
      ],
      "text/latex": [
       "A data.frame: 6 × 5\n",
       "\\begin{tabular}{r|lllll}\n",
       "  & Id & data & registros\\_totais\\_sono & total\\_minutos\\_dormindo & tempo\\_total\\_cama\\\\\n",
       "  & <dbl> & <dttm> & <int> & <int> & <int>\\\\\n",
       "\\hline\n",
       "\t1 & 1503960366 & 2016-04-12 & 1 & 327 & 346\\\\\n",
       "\t2 & 1503960366 & 2016-04-13 & 2 & 384 & 407\\\\\n",
       "\t3 & 1503960366 & 2016-04-15 & 1 & 412 & 442\\\\\n",
       "\t4 & 1503960366 & 2016-04-16 & 2 & 340 & 367\\\\\n",
       "\t5 & 1503960366 & 2016-04-17 & 1 & 700 & 712\\\\\n",
       "\t6 & 1503960366 & 2016-04-19 & 1 & 304 & 320\\\\\n",
       "\\end{tabular}\n"
      ],
      "text/markdown": [
       "\n",
       "A data.frame: 6 × 5\n",
       "\n",
       "| <!--/--> | Id &lt;dbl&gt; | data &lt;dttm&gt; | registros_totais_sono &lt;int&gt; | total_minutos_dormindo &lt;int&gt; | tempo_total_cama &lt;int&gt; |\n",
       "|---|---|---|---|---|---|\n",
       "| 1 | 1503960366 | 2016-04-12 | 1 | 327 | 346 |\n",
       "| 2 | 1503960366 | 2016-04-13 | 2 | 384 | 407 |\n",
       "| 3 | 1503960366 | 2016-04-15 | 1 | 412 | 442 |\n",
       "| 4 | 1503960366 | 2016-04-16 | 2 | 340 | 367 |\n",
       "| 5 | 1503960366 | 2016-04-17 | 1 | 700 | 712 |\n",
       "| 6 | 1503960366 | 2016-04-19 | 1 | 304 | 320 |\n",
       "\n"
      ],
      "text/plain": [
       "  Id         data       registros_totais_sono total_minutos_dormindo\n",
       "1 1503960366 2016-04-12 1                     327                   \n",
       "2 1503960366 2016-04-13 2                     384                   \n",
       "3 1503960366 2016-04-15 1                     412                   \n",
       "4 1503960366 2016-04-16 2                     340                   \n",
       "5 1503960366 2016-04-17 1                     700                   \n",
       "6 1503960366 2016-04-19 1                     304                   \n",
       "  tempo_total_cama\n",
       "1 346             \n",
       "2 407             \n",
       "3 442             \n",
       "4 367             \n",
       "5 712             \n",
       "6 320             "
      ]
     },
     "metadata": {},
     "output_type": "display_data"
    }
   ],
   "source": [
    "sono <- sono %>%\n",
    "  mutate(data = mdy_hms(data))\n",
    "head(sono)"
   ]
  },
  {
   "cell_type": "code",
   "execution_count": 18,
   "id": "225d298d",
   "metadata": {
    "execution": {
     "iopub.execute_input": "2025-04-06T17:53:02.500667Z",
     "iopub.status.busy": "2025-04-06T17:53:02.499209Z",
     "iopub.status.idle": "2025-04-06T17:53:02.571438Z",
     "shell.execute_reply": "2025-04-06T17:53:02.569806Z"
    },
    "papermill": {
     "duration": 0.087114,
     "end_time": "2025-04-06T17:53:02.573546",
     "exception": false,
     "start_time": "2025-04-06T17:53:02.486432",
     "status": "completed"
    },
    "tags": []
   },
   "outputs": [
    {
     "data": {
      "text/html": [
       "<table class=\"dataframe\">\n",
       "<caption>A data.frame: 6 × 4</caption>\n",
       "<thead>\n",
       "\t<tr><th></th><th scope=col>Id</th><th scope=col>data_hora</th><th scope=col>intensidade_total</th><th scope=col>intensidade_media</th></tr>\n",
       "\t<tr><th></th><th scope=col>&lt;dbl&gt;</th><th scope=col>&lt;dttm&gt;</th><th scope=col>&lt;int&gt;</th><th scope=col>&lt;dbl&gt;</th></tr>\n",
       "</thead>\n",
       "<tbody>\n",
       "\t<tr><th scope=row>1</th><td>1503960366</td><td>2016-04-12 00:00:00</td><td>20</td><td>0.333333</td></tr>\n",
       "\t<tr><th scope=row>2</th><td>1503960366</td><td>2016-04-12 01:00:00</td><td> 8</td><td>0.133333</td></tr>\n",
       "\t<tr><th scope=row>3</th><td>1503960366</td><td>2016-04-12 02:00:00</td><td> 7</td><td>0.116667</td></tr>\n",
       "\t<tr><th scope=row>4</th><td>1503960366</td><td>2016-04-12 03:00:00</td><td> 0</td><td>0.000000</td></tr>\n",
       "\t<tr><th scope=row>5</th><td>1503960366</td><td>2016-04-12 04:00:00</td><td> 0</td><td>0.000000</td></tr>\n",
       "\t<tr><th scope=row>6</th><td>1503960366</td><td>2016-04-12 05:00:00</td><td> 0</td><td>0.000000</td></tr>\n",
       "</tbody>\n",
       "</table>\n"
      ],
      "text/latex": [
       "A data.frame: 6 × 4\n",
       "\\begin{tabular}{r|llll}\n",
       "  & Id & data\\_hora & intensidade\\_total & intensidade\\_media\\\\\n",
       "  & <dbl> & <dttm> & <int> & <dbl>\\\\\n",
       "\\hline\n",
       "\t1 & 1503960366 & 2016-04-12 00:00:00 & 20 & 0.333333\\\\\n",
       "\t2 & 1503960366 & 2016-04-12 01:00:00 &  8 & 0.133333\\\\\n",
       "\t3 & 1503960366 & 2016-04-12 02:00:00 &  7 & 0.116667\\\\\n",
       "\t4 & 1503960366 & 2016-04-12 03:00:00 &  0 & 0.000000\\\\\n",
       "\t5 & 1503960366 & 2016-04-12 04:00:00 &  0 & 0.000000\\\\\n",
       "\t6 & 1503960366 & 2016-04-12 05:00:00 &  0 & 0.000000\\\\\n",
       "\\end{tabular}\n"
      ],
      "text/markdown": [
       "\n",
       "A data.frame: 6 × 4\n",
       "\n",
       "| <!--/--> | Id &lt;dbl&gt; | data_hora &lt;dttm&gt; | intensidade_total &lt;int&gt; | intensidade_media &lt;dbl&gt; |\n",
       "|---|---|---|---|---|\n",
       "| 1 | 1503960366 | 2016-04-12 00:00:00 | 20 | 0.333333 |\n",
       "| 2 | 1503960366 | 2016-04-12 01:00:00 |  8 | 0.133333 |\n",
       "| 3 | 1503960366 | 2016-04-12 02:00:00 |  7 | 0.116667 |\n",
       "| 4 | 1503960366 | 2016-04-12 03:00:00 |  0 | 0.000000 |\n",
       "| 5 | 1503960366 | 2016-04-12 04:00:00 |  0 | 0.000000 |\n",
       "| 6 | 1503960366 | 2016-04-12 05:00:00 |  0 | 0.000000 |\n",
       "\n"
      ],
      "text/plain": [
       "  Id         data_hora           intensidade_total intensidade_media\n",
       "1 1503960366 2016-04-12 00:00:00 20                0.333333         \n",
       "2 1503960366 2016-04-12 01:00:00  8                0.133333         \n",
       "3 1503960366 2016-04-12 02:00:00  7                0.116667         \n",
       "4 1503960366 2016-04-12 03:00:00  0                0.000000         \n",
       "5 1503960366 2016-04-12 04:00:00  0                0.000000         \n",
       "6 1503960366 2016-04-12 05:00:00  0                0.000000         "
      ]
     },
     "metadata": {},
     "output_type": "display_data"
    }
   ],
   "source": [
    "intensidade <- intensidade %>%\n",
    "  mutate(data_hora = mdy_hms(data_hora))\n",
    "head(intensidade)"
   ]
  },
  {
   "cell_type": "markdown",
   "id": "6003833f",
   "metadata": {
    "papermill": {
     "duration": 0.010994,
     "end_time": "2025-04-06T17:53:02.622369",
     "exception": false,
     "start_time": "2025-04-06T17:53:02.611375",
     "status": "completed"
    },
    "tags": []
   },
   "source": [
    "## Separando Coluna Data e Hora"
   ]
  },
  {
   "cell_type": "code",
   "execution_count": 19,
   "id": "61f68e1b",
   "metadata": {
    "execution": {
     "iopub.execute_input": "2025-04-06T17:53:02.647610Z",
     "iopub.status.busy": "2025-04-06T17:53:02.646131Z",
     "iopub.status.idle": "2025-04-06T17:53:03.034919Z",
     "shell.execute_reply": "2025-04-06T17:53:03.033296Z"
    },
    "papermill": {
     "duration": 0.403866,
     "end_time": "2025-04-06T17:53:03.037190",
     "exception": false,
     "start_time": "2025-04-06T17:53:02.633324",
     "status": "completed"
    },
    "tags": []
   },
   "outputs": [
    {
     "data": {
      "text/html": [
       "<table class=\"dataframe\">\n",
       "<caption>A data.frame: 6 × 5</caption>\n",
       "<thead>\n",
       "\t<tr><th></th><th scope=col>Id</th><th scope=col>data</th><th scope=col>hora</th><th scope=col>intensidade_total</th><th scope=col>intensidade_media</th></tr>\n",
       "\t<tr><th></th><th scope=col>&lt;dbl&gt;</th><th scope=col>&lt;chr&gt;</th><th scope=col>&lt;chr&gt;</th><th scope=col>&lt;int&gt;</th><th scope=col>&lt;dbl&gt;</th></tr>\n",
       "</thead>\n",
       "<tbody>\n",
       "\t<tr><th scope=row>1</th><td>1503960366</td><td>2016-04-12</td><td>00:00:00</td><td>20</td><td>0.333333</td></tr>\n",
       "\t<tr><th scope=row>2</th><td>1503960366</td><td>2016-04-12</td><td>01:00:00</td><td> 8</td><td>0.133333</td></tr>\n",
       "\t<tr><th scope=row>3</th><td>1503960366</td><td>2016-04-12</td><td>02:00:00</td><td> 7</td><td>0.116667</td></tr>\n",
       "\t<tr><th scope=row>4</th><td>1503960366</td><td>2016-04-12</td><td>03:00:00</td><td> 0</td><td>0.000000</td></tr>\n",
       "\t<tr><th scope=row>5</th><td>1503960366</td><td>2016-04-12</td><td>04:00:00</td><td> 0</td><td>0.000000</td></tr>\n",
       "\t<tr><th scope=row>6</th><td>1503960366</td><td>2016-04-12</td><td>05:00:00</td><td> 0</td><td>0.000000</td></tr>\n",
       "</tbody>\n",
       "</table>\n"
      ],
      "text/latex": [
       "A data.frame: 6 × 5\n",
       "\\begin{tabular}{r|lllll}\n",
       "  & Id & data & hora & intensidade\\_total & intensidade\\_media\\\\\n",
       "  & <dbl> & <chr> & <chr> & <int> & <dbl>\\\\\n",
       "\\hline\n",
       "\t1 & 1503960366 & 2016-04-12 & 00:00:00 & 20 & 0.333333\\\\\n",
       "\t2 & 1503960366 & 2016-04-12 & 01:00:00 &  8 & 0.133333\\\\\n",
       "\t3 & 1503960366 & 2016-04-12 & 02:00:00 &  7 & 0.116667\\\\\n",
       "\t4 & 1503960366 & 2016-04-12 & 03:00:00 &  0 & 0.000000\\\\\n",
       "\t5 & 1503960366 & 2016-04-12 & 04:00:00 &  0 & 0.000000\\\\\n",
       "\t6 & 1503960366 & 2016-04-12 & 05:00:00 &  0 & 0.000000\\\\\n",
       "\\end{tabular}\n"
      ],
      "text/markdown": [
       "\n",
       "A data.frame: 6 × 5\n",
       "\n",
       "| <!--/--> | Id &lt;dbl&gt; | data &lt;chr&gt; | hora &lt;chr&gt; | intensidade_total &lt;int&gt; | intensidade_media &lt;dbl&gt; |\n",
       "|---|---|---|---|---|---|\n",
       "| 1 | 1503960366 | 2016-04-12 | 00:00:00 | 20 | 0.333333 |\n",
       "| 2 | 1503960366 | 2016-04-12 | 01:00:00 |  8 | 0.133333 |\n",
       "| 3 | 1503960366 | 2016-04-12 | 02:00:00 |  7 | 0.116667 |\n",
       "| 4 | 1503960366 | 2016-04-12 | 03:00:00 |  0 | 0.000000 |\n",
       "| 5 | 1503960366 | 2016-04-12 | 04:00:00 |  0 | 0.000000 |\n",
       "| 6 | 1503960366 | 2016-04-12 | 05:00:00 |  0 | 0.000000 |\n",
       "\n"
      ],
      "text/plain": [
       "  Id         data       hora     intensidade_total intensidade_media\n",
       "1 1503960366 2016-04-12 00:00:00 20                0.333333         \n",
       "2 1503960366 2016-04-12 01:00:00  8                0.133333         \n",
       "3 1503960366 2016-04-12 02:00:00  7                0.116667         \n",
       "4 1503960366 2016-04-12 03:00:00  0                0.000000         \n",
       "5 1503960366 2016-04-12 04:00:00  0                0.000000         \n",
       "6 1503960366 2016-04-12 05:00:00  0                0.000000         "
      ]
     },
     "metadata": {},
     "output_type": "display_data"
    }
   ],
   "source": [
    "intensidade <- intensidade %>%\n",
    "  separate(data_hora, into = c(\"data\", \"hora\"), sep = \" \")\n",
    "head(intensidade)"
   ]
  },
  {
   "cell_type": "code",
   "execution_count": 20,
   "id": "a1bb584f",
   "metadata": {
    "execution": {
     "iopub.execute_input": "2025-04-06T17:53:03.062564Z",
     "iopub.status.busy": "2025-04-06T17:53:03.061114Z",
     "iopub.status.idle": "2025-04-06T17:53:03.431354Z",
     "shell.execute_reply": "2025-04-06T17:53:03.429719Z"
    },
    "papermill": {
     "duration": 0.38514,
     "end_time": "2025-04-06T17:53:03.433467",
     "exception": false,
     "start_time": "2025-04-06T17:53:03.048327",
     "status": "completed"
    },
    "tags": []
   },
   "outputs": [
    {
     "name": "stderr",
     "output_type": "stream",
     "text": [
      "Warning message:\n",
      "“\u001b[1m\u001b[22mExpected 2 pieces. Additional pieces discarded in 22099 rows [1, 2, 3, 4, 5, 6,\n",
      "7, 8, 9, 10, 11, 12, 13, 14, 15, 16, 17, 18, 19, 20, ...].”\n"
     ]
    },
    {
     "data": {
      "text/html": [
       "<table class=\"dataframe\">\n",
       "<caption>A data.frame: 6 × 4</caption>\n",
       "<thead>\n",
       "\t<tr><th></th><th scope=col>Id</th><th scope=col>data</th><th scope=col>hora</th><th scope=col>calorias</th></tr>\n",
       "\t<tr><th></th><th scope=col>&lt;dbl&gt;</th><th scope=col>&lt;chr&gt;</th><th scope=col>&lt;chr&gt;</th><th scope=col>&lt;int&gt;</th></tr>\n",
       "</thead>\n",
       "<tbody>\n",
       "\t<tr><th scope=row>1</th><td>1503960366</td><td>4/12/2016</td><td>12:00:00</td><td>81</td></tr>\n",
       "\t<tr><th scope=row>2</th><td>1503960366</td><td>4/12/2016</td><td>1:00:00 </td><td>61</td></tr>\n",
       "\t<tr><th scope=row>3</th><td>1503960366</td><td>4/12/2016</td><td>2:00:00 </td><td>59</td></tr>\n",
       "\t<tr><th scope=row>4</th><td>1503960366</td><td>4/12/2016</td><td>3:00:00 </td><td>47</td></tr>\n",
       "\t<tr><th scope=row>5</th><td>1503960366</td><td>4/12/2016</td><td>4:00:00 </td><td>48</td></tr>\n",
       "\t<tr><th scope=row>6</th><td>1503960366</td><td>4/12/2016</td><td>5:00:00 </td><td>48</td></tr>\n",
       "</tbody>\n",
       "</table>\n"
      ],
      "text/latex": [
       "A data.frame: 6 × 4\n",
       "\\begin{tabular}{r|llll}\n",
       "  & Id & data & hora & calorias\\\\\n",
       "  & <dbl> & <chr> & <chr> & <int>\\\\\n",
       "\\hline\n",
       "\t1 & 1503960366 & 4/12/2016 & 12:00:00 & 81\\\\\n",
       "\t2 & 1503960366 & 4/12/2016 & 1:00:00  & 61\\\\\n",
       "\t3 & 1503960366 & 4/12/2016 & 2:00:00  & 59\\\\\n",
       "\t4 & 1503960366 & 4/12/2016 & 3:00:00  & 47\\\\\n",
       "\t5 & 1503960366 & 4/12/2016 & 4:00:00  & 48\\\\\n",
       "\t6 & 1503960366 & 4/12/2016 & 5:00:00  & 48\\\\\n",
       "\\end{tabular}\n"
      ],
      "text/markdown": [
       "\n",
       "A data.frame: 6 × 4\n",
       "\n",
       "| <!--/--> | Id &lt;dbl&gt; | data &lt;chr&gt; | hora &lt;chr&gt; | calorias &lt;int&gt; |\n",
       "|---|---|---|---|---|\n",
       "| 1 | 1503960366 | 4/12/2016 | 12:00:00 | 81 |\n",
       "| 2 | 1503960366 | 4/12/2016 | 1:00:00  | 61 |\n",
       "| 3 | 1503960366 | 4/12/2016 | 2:00:00  | 59 |\n",
       "| 4 | 1503960366 | 4/12/2016 | 3:00:00  | 47 |\n",
       "| 5 | 1503960366 | 4/12/2016 | 4:00:00  | 48 |\n",
       "| 6 | 1503960366 | 4/12/2016 | 5:00:00  | 48 |\n",
       "\n"
      ],
      "text/plain": [
       "  Id         data      hora     calorias\n",
       "1 1503960366 4/12/2016 12:00:00 81      \n",
       "2 1503960366 4/12/2016 1:00:00  61      \n",
       "3 1503960366 4/12/2016 2:00:00  59      \n",
       "4 1503960366 4/12/2016 3:00:00  47      \n",
       "5 1503960366 4/12/2016 4:00:00  48      \n",
       "6 1503960366 4/12/2016 5:00:00  48      "
      ]
     },
     "metadata": {},
     "output_type": "display_data"
    }
   ],
   "source": [
    "calorias <- calorias %>%\n",
    "  separate(data_hora, into = c(\"data\", \"hora\"), sep = \" \")\n",
    "head(calorias)"
   ]
  },
  {
   "cell_type": "markdown",
   "id": "ae6fd0f6",
   "metadata": {
    "papermill": {
     "duration": 0.01136,
     "end_time": "2025-04-06T17:53:03.456208",
     "exception": false,
     "start_time": "2025-04-06T17:53:03.444848",
     "status": "completed"
    },
    "tags": []
   },
   "source": [
    "## Criando uma Coluna com o Total de Minutos Ativos"
   ]
  },
  {
   "cell_type": "code",
   "execution_count": 21,
   "id": "2ec42866",
   "metadata": {
    "execution": {
     "iopub.execute_input": "2025-04-06T17:53:03.481966Z",
     "iopub.status.busy": "2025-04-06T17:53:03.480296Z",
     "iopub.status.idle": "2025-04-06T17:53:03.502075Z",
     "shell.execute_reply": "2025-04-06T17:53:03.500402Z"
    },
    "papermill": {
     "duration": 0.036942,
     "end_time": "2025-04-06T17:53:03.504281",
     "exception": false,
     "start_time": "2025-04-06T17:53:03.467339",
     "status": "completed"
    },
    "tags": []
   },
   "outputs": [],
   "source": [
    "atividade <- atividade %>%\n",
    "  mutate(total_minutos_ativos = minutos_muito_ativos + minutos_razoavelmente_ativos + minutos_levemente_ativos)"
   ]
  },
  {
   "cell_type": "markdown",
   "id": "3cd4f7f9",
   "metadata": {
    "papermill": {
     "duration": 0.011307,
     "end_time": "2025-04-06T17:53:03.526930",
     "exception": false,
     "start_time": "2025-04-06T17:53:03.515623",
     "status": "completed"
    },
    "tags": []
   },
   "source": [
    "## Resumo Estatistico dos Dados"
   ]
  },
  {
   "cell_type": "code",
   "execution_count": 22,
   "id": "e094c37e",
   "metadata": {
    "execution": {
     "iopub.execute_input": "2025-04-06T17:53:03.552518Z",
     "iopub.status.busy": "2025-04-06T17:53:03.551074Z",
     "iopub.status.idle": "2025-04-06T17:53:03.583762Z",
     "shell.execute_reply": "2025-04-06T17:53:03.582195Z"
    },
    "papermill": {
     "duration": 0.047942,
     "end_time": "2025-04-06T17:53:03.586071",
     "exception": false,
     "start_time": "2025-04-06T17:53:03.538129",
     "status": "completed"
    },
    "tags": []
   },
   "outputs": [
    {
     "data": {
      "text/plain": [
       " passos_totais   distancia_total  distancia_atividades_registradas\n",
       " Min.   :    0   Min.   : 0.000   Min.   :0.0000                  \n",
       " 1st Qu.: 3790   1st Qu.: 2.620   1st Qu.:0.0000                  \n",
       " Median : 7406   Median : 5.245   Median :0.0000                  \n",
       " Mean   : 7638   Mean   : 5.490   Mean   :0.1082                  \n",
       " 3rd Qu.:10727   3rd Qu.: 7.713   3rd Qu.:0.0000                  \n",
       " Max.   :36019   Max.   :28.030   Max.   :4.9421                  \n",
       " distancia_muito_ativa distancia_moderadamente_ativa distancia_ativa_leve\n",
       " Min.   : 0.000        Min.   :0.0000                Min.   : 0.000      \n",
       " 1st Qu.: 0.000        1st Qu.:0.0000                1st Qu.: 1.945      \n",
       " Median : 0.210        Median :0.2400                Median : 3.365      \n",
       " Mean   : 1.503        Mean   :0.5675                Mean   : 3.341      \n",
       " 3rd Qu.: 2.053        3rd Qu.:0.8000                3rd Qu.: 4.782      \n",
       " Max.   :21.920        Max.   :6.4800                Max.   :10.710      \n",
       " distancia_ativa_sedentaria minutos_muito_ativos minutos_razoavelmente_ativos\n",
       " Min.   :0.000000           Min.   :  0.00       Min.   :  0.00              \n",
       " 1st Qu.:0.000000           1st Qu.:  0.00       1st Qu.:  0.00              \n",
       " Median :0.000000           Median :  4.00       Median :  6.00              \n",
       " Mean   :0.001606           Mean   : 21.16       Mean   : 13.56              \n",
       " 3rd Qu.:0.000000           3rd Qu.: 32.00       3rd Qu.: 19.00              \n",
       " Max.   :0.110000           Max.   :210.00       Max.   :143.00              \n",
       " minutos_levemente_ativos minutos_sedentarios    calorias   \n",
       " Min.   :  0.0            Min.   :   0.0      Min.   :   0  \n",
       " 1st Qu.:127.0            1st Qu.: 729.8      1st Qu.:1828  \n",
       " Median :199.0            Median :1057.5      Median :2134  \n",
       " Mean   :192.8            Mean   : 991.2      Mean   :2304  \n",
       " 3rd Qu.:264.0            3rd Qu.:1229.5      3rd Qu.:2793  \n",
       " Max.   :518.0            Max.   :1440.0      Max.   :4900  "
      ]
     },
     "metadata": {},
     "output_type": "display_data"
    }
   ],
   "source": [
    "atividade %>%\n",
    "  select(passos_totais,\n",
    "         distancia_total,\n",
    "         distancia_atividades_registradas,\n",
    "         distancia_muito_ativa,\n",
    "         distancia_moderadamente_ativa,\n",
    "         distancia_ativa_leve,\n",
    "         distancia_ativa_sedentaria,\n",
    "         minutos_muito_ativos,\n",
    "         minutos_razoavelmente_ativos,\n",
    "         minutos_levemente_ativos,\n",
    "         minutos_sedentarios,\n",
    "         calorias) %>%\n",
    "  summary()"
   ]
  },
  {
   "cell_type": "code",
   "execution_count": 23,
   "id": "2352a132",
   "metadata": {
    "execution": {
     "iopub.execute_input": "2025-04-06T17:53:03.612633Z",
     "iopub.status.busy": "2025-04-06T17:53:03.611170Z",
     "iopub.status.idle": "2025-04-06T17:53:03.631150Z",
     "shell.execute_reply": "2025-04-06T17:53:03.629532Z"
    },
    "papermill": {
     "duration": 0.035608,
     "end_time": "2025-04-06T17:53:03.633274",
     "exception": false,
     "start_time": "2025-04-06T17:53:03.597666",
     "status": "completed"
    },
    "tags": []
   },
   "outputs": [
    {
     "data": {
      "text/plain": [
       " total_minutos_dormindo tempo_total_cama\n",
       " Min.   : 58.0          Min.   : 61.0   \n",
       " 1st Qu.:361.0          1st Qu.:403.8   \n",
       " Median :432.5          Median :463.0   \n",
       " Mean   :419.2          Mean   :458.5   \n",
       " 3rd Qu.:490.0          3rd Qu.:526.0   \n",
       " Max.   :796.0          Max.   :961.0   "
      ]
     },
     "metadata": {},
     "output_type": "display_data"
    }
   ],
   "source": [
    "sono %>%\n",
    "  select(total_minutos_dormindo,\n",
    "         tempo_total_cama) %>%\n",
    "  summary()"
   ]
  },
  {
   "cell_type": "code",
   "execution_count": 24,
   "id": "44b70379",
   "metadata": {
    "execution": {
     "iopub.execute_input": "2025-04-06T17:53:03.659943Z",
     "iopub.status.busy": "2025-04-06T17:53:03.658463Z",
     "iopub.status.idle": "2025-04-06T17:53:03.678328Z",
     "shell.execute_reply": "2025-04-06T17:53:03.676737Z"
    },
    "papermill": {
     "duration": 0.035558,
     "end_time": "2025-04-06T17:53:03.680422",
     "exception": false,
     "start_time": "2025-04-06T17:53:03.644864",
     "status": "completed"
    },
    "tags": []
   },
   "outputs": [
    {
     "data": {
      "text/plain": [
       "    calorias     \n",
       " Min.   : 42.00  \n",
       " 1st Qu.: 63.00  \n",
       " Median : 83.00  \n",
       " Mean   : 97.39  \n",
       " 3rd Qu.:108.00  \n",
       " Max.   :948.00  "
      ]
     },
     "metadata": {},
     "output_type": "display_data"
    }
   ],
   "source": [
    "calorias %>%\n",
    "  select(calorias) %>%\n",
    "  summary()"
   ]
  },
  {
   "cell_type": "code",
   "execution_count": 25,
   "id": "a7e4e092",
   "metadata": {
    "execution": {
     "iopub.execute_input": "2025-04-06T17:53:03.706891Z",
     "iopub.status.busy": "2025-04-06T17:53:03.705373Z",
     "iopub.status.idle": "2025-04-06T17:53:03.755663Z",
     "shell.execute_reply": "2025-04-06T17:53:03.753884Z"
    },
    "papermill": {
     "duration": 0.065956,
     "end_time": "2025-04-06T17:53:03.757909",
     "exception": false,
     "start_time": "2025-04-06T17:53:03.691953",
     "status": "completed"
    },
    "tags": []
   },
   "outputs": [
    {
     "data": {
      "text/plain": [
       " intensidade_total\n",
       " Min.   :  0.00   \n",
       " 1st Qu.:  0.00   \n",
       " Median :  3.00   \n",
       " Mean   : 12.04   \n",
       " 3rd Qu.: 16.00   \n",
       " Max.   :180.00   "
      ]
     },
     "metadata": {},
     "output_type": "display_data"
    }
   ],
   "source": [
    "intensidade %>%\n",
    "  select(intensidade_total) %>%\n",
    "  summary()"
   ]
  },
  {
   "cell_type": "markdown",
   "id": "6d580caa",
   "metadata": {
    "papermill": {
     "duration": 0.011667,
     "end_time": "2025-04-06T17:53:03.781185",
     "exception": false,
     "start_time": "2025-04-06T17:53:03.769518",
     "status": "completed"
    },
    "tags": []
   },
   "source": [
    "# Analisando os dados\n",
    "\n",
    "\n",
    "\n",
    "\n",
    "Vamos examinar os hábitos dos utilizadores do FitBit e ver se podemos obter algumas lições valiosas para a estratégia de marketing da BellaBeat.\n",
    "\n",
    "Desejamos investigar como os utilizadores estão a distribuir o seu tempo por várias atividades e se isso tem influência na qualidade do sono. Para facilitar a análise, os dados sobre os minutos gastos em cada tipo de atividade foram organizados.\n",
    "\n",
    "Na análise dessas informações, estamos na expectativa de descobrir padrões fascinantes. Um exemplo é que podemos descobrir que os usuários com maior tempo gasto em atividades físicas têm um sono de qualidade superior. Podemos usar isso para ajustar nossa estratégia de marketing para o BellaBeat, realçando como nosso produto pode auxiliar as pessoas a alcançarem seus objetivos de atividade física e, por conseguinte, aprimorar sua qualidade de sono.\n",
    "\n",
    "Investigaremos as correlações entre atividade física e qualidade do sono para obter insights que guiarão nossas futuras campanhas de marketing e mensagens promocionais."
   ]
  },
  {
   "cell_type": "markdown",
   "id": "360d3c33",
   "metadata": {
    "papermill": {
     "duration": 0.011585,
     "end_time": "2025-04-06T17:53:03.804774",
     "exception": false,
     "start_time": "2025-04-06T17:53:03.793189",
     "status": "completed"
    },
    "tags": []
   },
   "source": [
    " ## Distribuição de Passos Diários"
   ]
  },
  {
   "cell_type": "code",
   "execution_count": 26,
   "id": "d015b447",
   "metadata": {
    "execution": {
     "iopub.execute_input": "2025-04-06T17:53:03.831639Z",
     "iopub.status.busy": "2025-04-06T17:53:03.829880Z",
     "iopub.status.idle": "2025-04-06T17:53:04.342339Z",
     "shell.execute_reply": "2025-04-06T17:53:04.340540Z"
    },
    "papermill": {
     "duration": 0.52829,
     "end_time": "2025-04-06T17:53:04.344544",
     "exception": false,
     "start_time": "2025-04-06T17:53:03.816254",
     "status": "completed"
    },
    "tags": []
   },
   "outputs": [
    {
     "data": {
      "image/png": "[encoded data removed]"
     },
     "metadata": {
      "image/png": {
       "height": 420,
       "width": 420
      }
     },
     "output_type": "display_data"
    }
   ],
   "source": [
    "ggplot(atividade, aes(x = passos_totais)) +\n",
    "  geom_histogram(fill = \"steelblue\", color = \"black\", bins = 30) +\n",
    "  labs(title = \"Distribuição de Passos Diários\",\n",
    "       x = \"Total de Passos\", y = \"Frequência\") +\n",
    "  theme_minimal()\n",
    "\n",
    "\n"
   ]
  },
  {
   "cell_type": "markdown",
   "id": "26081007",
   "metadata": {
    "papermill": {
     "duration": 0.012154,
     "end_time": "2025-04-06T17:53:04.369010",
     "exception": false,
     "start_time": "2025-04-06T17:53:04.356856",
     "status": "completed"
    },
    "tags": []
   },
   "source": [
    "## Correlação entre Sono e Atividade Física"
   ]
  },
  {
   "cell_type": "code",
   "execution_count": 27,
   "id": "99e4f115",
   "metadata": {
    "execution": {
     "iopub.execute_input": "2025-04-06T17:53:04.396462Z",
     "iopub.status.busy": "2025-04-06T17:53:04.394973Z",
     "iopub.status.idle": "2025-04-06T17:53:04.693793Z",
     "shell.execute_reply": "2025-04-06T17:53:04.692164Z"
    },
    "papermill": {
     "duration": 0.316513,
     "end_time": "2025-04-06T17:53:04.697525",
     "exception": false,
     "start_time": "2025-04-06T17:53:04.381012",
     "status": "completed"
    },
    "tags": []
   },
   "outputs": [
    {
     "data": {
      "image/png": "[encoded data removed]"
     },
     "metadata": {
      "image/png": {
       "height": 420,
       "width": 420
      }
     },
     "output_type": "display_data"
    }
   ],
   "source": [
    "library(dplyr)\n",
    "library(ggplot2)\n",
    "\n",
    "# Ajustar a data\n",
    "sono_limpo <- sono %>%\n",
    "  mutate(data = as.Date(data, format = \"%m/%d/%Y\")) %>%\n",
    "  group_by(Id, data) %>%\n",
    "  summarise(total_minutos_dormindo = sum(total_minutos_dormindo), .groups = 'drop')\n",
    "\n",
    "atividade_limpa <- atividade %>%\n",
    "  mutate(data = as.Date(data))\n",
    "\n",
    "# Juntar os dois dataframes\n",
    "dados_unidos <- inner_join(atividade_limpa, sono_limpo, by = c(\"Id\", \"data\"))\n",
    "\n",
    "# Gráfico de dispersão\n",
    "ggplot(dados_unidos, aes(x = total_minutos_dormindo, y = passos_totais)) +\n",
    "  geom_point(alpha = 0.6, color = \"darkgreen\") +\n",
    "  labs(title = \"Minutos de Sono vs. Total de Passos\",\n",
    "       x = \"Total de Minutos Dormindo\", y = \"Total de Passos\") +\n",
    "  theme_light()\n",
    "\n"
   ]
  },
  {
   "cell_type": "markdown",
   "id": "49bbc8af",
   "metadata": {
    "papermill": {
     "duration": 0.014464,
     "end_time": "2025-04-06T17:53:04.727222",
     "exception": false,
     "start_time": "2025-04-06T17:53:04.712758",
     "status": "completed"
    },
    "tags": []
   },
   "source": [
    "## Calorias Médias por Dia da Semana"
   ]
  },
  {
   "cell_type": "code",
   "execution_count": 28,
   "id": "2d72d3bc",
   "metadata": {
    "execution": {
     "iopub.execute_input": "2025-04-06T17:53:04.760071Z",
     "iopub.status.busy": "2025-04-06T17:53:04.758558Z",
     "iopub.status.idle": "2025-04-06T17:53:05.037132Z",
     "shell.execute_reply": "2025-04-06T17:53:05.035405Z"
    },
    "papermill": {
     "duration": 0.297582,
     "end_time": "2025-04-06T17:53:05.039427",
     "exception": false,
     "start_time": "2025-04-06T17:53:04.741845",
     "status": "completed"
    },
    "tags": []
   },
   "outputs": [
    {
     "data": {
      "image/png": "[encoded data removed]"
     },
     "metadata": {
      "image/png": {
       "height": 420,
       "width": 420
      }
     },
     "output_type": "display_data"
    }
   ],
   "source": [
    "library(lubridate)\n",
    "\n",
    "atividade %>%\n",
    "  mutate(dia_semana = wday(as.Date(data), label = TRUE)) %>%\n",
    "  group_by(dia_semana) %>%\n",
    "  summarise(media_calorias = mean(calorias), .groups = 'drop') %>%\n",
    "  ggplot(aes(x = dia_semana, y = media_calorias)) +\n",
    "  geom_col(fill = \"coral\") +\n",
    "  labs(title = \"Média de Calorias por Dia da Semana\",\n",
    "       x = \"Dia da Semana\", y = \"Calorias Médias\") +\n",
    "  theme_minimal()\n"
   ]
  },
  {
   "cell_type": "markdown",
   "id": "51591d28",
   "metadata": {
    "papermill": {
     "duration": 0.015633,
     "end_time": "2025-04-06T17:53:05.070632",
     "exception": false,
     "start_time": "2025-04-06T17:53:05.054999",
     "status": "completed"
    },
    "tags": []
   },
   "source": [
    "## Tempo de Sono por Nível de Atividade"
   ]
  },
  {
   "cell_type": "code",
   "execution_count": 29,
   "id": "35b685f6",
   "metadata": {
    "execution": {
     "iopub.execute_input": "2025-04-06T17:53:05.104759Z",
     "iopub.status.busy": "2025-04-06T17:53:05.103280Z",
     "iopub.status.idle": "2025-04-06T17:53:05.425490Z",
     "shell.execute_reply": "2025-04-06T17:53:05.423762Z"
    },
    "papermill": {
     "duration": 0.341741,
     "end_time": "2025-04-06T17:53:05.427618",
     "exception": false,
     "start_time": "2025-04-06T17:53:05.085877",
     "status": "completed"
    },
    "tags": []
   },
   "outputs": [
    {
     "data": {
      "image/png": "[encoded data removed]"
     },
     "metadata": {
      "image/png": {
       "height": 420,
       "width": 420
      }
     },
     "output_type": "display_data"
    }
   ],
   "source": [
    "# Classificar o nível de atividade por quantidade de passos\n",
    "dados_unidos <- dados_unidos %>%\n",
    "  mutate(nivel_atividade = case_when(\n",
    "    passos_totais < 5000 ~ \"Baixa\",\n",
    "    passos_totais < 10000 ~ \"Média\",\n",
    "    TRUE ~ \"Alta\"\n",
    "  ))\n",
    "\n",
    "# Boxplot do sono por nível de atividade\n",
    "ggplot(dados_unidos, aes(x = nivel_atividade, y = total_minutos_dormindo)) +\n",
    "  geom_boxplot(fill = \"mediumpurple\") +\n",
    "  labs(title = \"Tempo de Sono por Nível de Atividade\",\n",
    "       x = \"Nível de Atividade\", y = \"Total de Minutos Dormindo\") +\n",
    "  theme_classic()\n",
    "\n"
   ]
  },
  {
   "cell_type": "markdown",
   "id": "aa9aea3d",
   "metadata": {
    "papermill": {
     "duration": 0.016088,
     "end_time": "2025-04-06T17:53:05.459995",
     "exception": false,
     "start_time": "2025-04-06T17:53:05.443907",
     "status": "completed"
    },
    "tags": []
   },
   "source": [
    "# Conclusão\n",
    "\n",
    "Durante a análise dos dados, percebi que existe uma relação interessante entre o tempo de sono e o nível de atividade física. De forma geral, as pessoas que são mais ativas ao longo do dia — ou seja, que dão mais passos — tendem também a dormir por mais tempo. Ou seja, parece que quanto mais nos movimentamos, melhor (ou mais) dormimos.\n",
    "\n",
    "Quando separamos os usuários por níveis de atividade (baixa, média e alta), deu pra ver que quem tem um estilo de vida mais ativo costuma manter uma rotina de sono mais consistente e duradoura. Isso reforça a importância de manter o corpo em movimento, não só pela saúde física, mas também pelo impacto positivo no descanso e bem-estar.\n",
    "\n",
    "Essas informações podem ser super úteis para a Bellabeat entender melhor o comportamento das usuárias e sugerir hábitos mais saudáveis, como caminhar mais durante o dia para dormir melhor à noite. Pequenas mudanças na rotina podem fazer uma grande diferença na qualidade de vida.\n"
   ]
  }
 ],
 "metadata": {
  "kaggle": {
   "accelerator": "none",
   "dataSources": [
    {
     "datasetId": 1041311,
     "sourceId": 7746251,
     "sourceType": "datasetVersion"
    }
   ],
   "dockerImageVersionId": 30618,
   "isGpuEnabled": false,
   "isInternetEnabled": true,
   "language": "r",
   "sourceType": "notebook"
  },
  "kernelspec": {
   "display_name": "R",
   "language": "R",
   "name": "ir"
  },
  "language_info": {
   "codemirror_mode": "r",
   "file_extension": ".r",
   "mimetype": "text/x-r-source",
   "name": "R",
   "pygments_lexer": "r",
   "version": "4.0.5"
  },
  "papermill": {
   "default_parameters": {},
   "duration": 9.202504,
   "end_time": "2025-04-06T17:53:05.596462",
   "environment_variables": {},
   "exception": null,
   "input_path": "__notebook__.ipynb",
   "output_path": "__notebook__.ipynb",
   "parameters": {},
   "start_time": "2025-04-06T17:52:56.393958",
   "version": "2.5.0"
  }
 },
 "nbformat": 4,
 "nbformat_minor": 5
}
